{
 "cells": [
  {
   "cell_type": "markdown",
   "metadata": {},
   "source": [
    "# Projeto 1 - Ciência dos Dados"
   ]
  },
  {
   "cell_type": "markdown",
   "metadata": {},
   "source": [
    "Nome: Arthur Fuhrken \n",
    "\n",
    "Nome: Pedro Mahfuz\n",
    "\n",
    "Nome: Rodrigo Furukawa"
   ]
  },
  {
   "cell_type": "markdown",
   "metadata": {},
   "source": [
    "Atenção: Serão permitidos grupos de três pessoas, mas com uma rubrica mais exigente. Grupos deste tamanho precisarão fazer um questionário de avaliação de trabalho em equipe"
   ]
  },
  {
   "cell_type": "markdown",
   "metadata": {},
   "source": [
    "___\n",
    "Carregando algumas bibliotecas:"
   ]
  },
  {
   "cell_type": "code",
   "execution_count": 1,
   "metadata": {},
   "outputs": [],
   "source": [
    "%matplotlib inline\n",
    "import pandas as pd\n",
    "import matplotlib.pyplot as plt\n",
    "import numpy as np\n",
    "import os\n",
    "import re\n",
    "import emoji\n",
    "from math import *"
   ]
  },
  {
   "cell_type": "code",
   "execution_count": 2,
   "metadata": {
    "scrolled": false
   },
   "outputs": [
    {
     "name": "stdout",
     "output_type": "stream",
     "text": [
      "Esperamos trabalhar no diretório\n",
      "C:\\Users\\osbor\\Documents\\2021.1\\Cdados DP\\Projeto 1\n"
     ]
    }
   ],
   "source": [
    "print('Esperamos trabalhar no diretório')\n",
    "print(os.getcwd())"
   ]
  },
  {
   "cell_type": "markdown",
   "metadata": {},
   "source": [
    "Carregando a base de dados com os tweets classificados como relevantes e não relevantes:"
   ]
  },
  {
   "cell_type": "code",
   "execution_count": 3,
   "metadata": {},
   "outputs": [],
   "source": [
    "filename = 'ruffles.xlsx'"
   ]
  },
  {
   "cell_type": "code",
   "execution_count": 4,
   "metadata": {},
   "outputs": [
    {
     "data": {
      "text/html": [
       "<div>\n",
       "<style scoped>\n",
       "    .dataframe tbody tr th:only-of-type {\n",
       "        vertical-align: middle;\n",
       "    }\n",
       "\n",
       "    .dataframe tbody tr th {\n",
       "        vertical-align: top;\n",
       "    }\n",
       "\n",
       "    .dataframe thead th {\n",
       "        text-align: right;\n",
       "    }\n",
       "</style>\n",
       "<table border=\"1\" class=\"dataframe\">\n",
       "  <thead>\n",
       "    <tr style=\"text-align: right;\">\n",
       "      <th></th>\n",
       "      <th>Treinamento</th>\n",
       "      <th>Valor</th>\n",
       "    </tr>\n",
       "  </thead>\n",
       "  <tbody>\n",
       "    <tr>\n",
       "      <th>0</th>\n",
       "      <td>uma criancinha deu um ruffles pra ela</td>\n",
       "      <td>1</td>\n",
       "    </tr>\n",
       "    <tr>\n",
       "      <th>1</th>\n",
       "      <td>rt @favskyliex: 📖 sorteio 📖\\n\\npara concorrer ...</td>\n",
       "      <td>0</td>\n",
       "    </tr>\n",
       "    <tr>\n",
       "      <th>2</th>\n",
       "      <td>@_adryelleac @americanascom aí sim, adry! imag...</td>\n",
       "      <td>2</td>\n",
       "    </tr>\n",
       "    <tr>\n",
       "      <th>3</th>\n",
       "      <td>@b_ruffles eu vo para de estuda também</td>\n",
       "      <td>0</td>\n",
       "    </tr>\n",
       "    <tr>\n",
       "      <th>4</th>\n",
       "      <td>assimmm completamente eu arrumando as parede d...</td>\n",
       "      <td>0</td>\n",
       "    </tr>\n",
       "  </tbody>\n",
       "</table>\n",
       "</div>"
      ],
      "text/plain": [
       "                                         Treinamento  Valor\n",
       "0              uma criancinha deu um ruffles pra ela      1\n",
       "1  rt @favskyliex: 📖 sorteio 📖\\n\\npara concorrer ...      0\n",
       "2  @_adryelleac @americanascom aí sim, adry! imag...      2\n",
       "3             @b_ruffles eu vo para de estuda também      0\n",
       "4  assimmm completamente eu arrumando as parede d...      0"
      ]
     },
     "execution_count": 4,
     "metadata": {},
     "output_type": "execute_result"
    }
   ],
   "source": [
    "train = pd.read_excel(filename)\n",
    "train.head(5)"
   ]
  },
  {
   "cell_type": "code",
   "execution_count": 5,
   "metadata": {},
   "outputs": [
    {
     "data": {
      "text/html": [
       "<div>\n",
       "<style scoped>\n",
       "    .dataframe tbody tr th:only-of-type {\n",
       "        vertical-align: middle;\n",
       "    }\n",
       "\n",
       "    .dataframe tbody tr th {\n",
       "        vertical-align: top;\n",
       "    }\n",
       "\n",
       "    .dataframe thead th {\n",
       "        text-align: right;\n",
       "    }\n",
       "</style>\n",
       "<table border=\"1\" class=\"dataframe\">\n",
       "  <thead>\n",
       "    <tr style=\"text-align: right;\">\n",
       "      <th></th>\n",
       "      <th>Teste</th>\n",
       "      <th>Valor</th>\n",
       "    </tr>\n",
       "  </thead>\n",
       "  <tbody>\n",
       "    <tr>\n",
       "      <th>0</th>\n",
       "      <td>@vulgo_ruffles amo vc 🥰🥰</td>\n",
       "      <td>0</td>\n",
       "    </tr>\n",
       "    <tr>\n",
       "      <th>1</th>\n",
       "      <td>rt @igoritonobrasil: 🏐💕 amor doce 💕🏐\\n#haikyuu...</td>\n",
       "      <td>0</td>\n",
       "    </tr>\n",
       "    <tr>\n",
       "      <th>2</th>\n",
       "      <td>rt @bonecker_: incrível que eu taco o fodase p...</td>\n",
       "      <td>2</td>\n",
       "    </tr>\n",
       "    <tr>\n",
       "      <th>3</th>\n",
       "      <td>[9:55 pm, 17/03/2021] alexia: eu comi só ruffl...</td>\n",
       "      <td>1</td>\n",
       "    </tr>\n",
       "    <tr>\n",
       "      <th>4</th>\n",
       "      <td>hj não foi um bom dia</td>\n",
       "      <td>0</td>\n",
       "    </tr>\n",
       "  </tbody>\n",
       "</table>\n",
       "</div>"
      ],
      "text/plain": [
       "                                               Teste  Valor\n",
       "0                           @vulgo_ruffles amo vc 🥰🥰      0\n",
       "1  rt @igoritonobrasil: 🏐💕 amor doce 💕🏐\\n#haikyuu...      0\n",
       "2  rt @bonecker_: incrível que eu taco o fodase p...      2\n",
       "3  [9:55 pm, 17/03/2021] alexia: eu comi só ruffl...      1\n",
       "4                              hj não foi um bom dia      0"
      ]
     },
     "execution_count": 5,
     "metadata": {},
     "output_type": "execute_result"
    }
   ],
   "source": [
    "test = pd.read_excel(filename, sheet_name = 'Teste')\n",
    "test.head(5)"
   ]
  },
  {
   "cell_type": "markdown",
   "metadata": {},
   "source": [
    "___\n",
    "## Classificador automático de sentimento\n"
   ]
  },
  {
   "cell_type": "markdown",
   "metadata": {},
   "source": [
    "Faça aqui uma descrição do seu produto e o que considerou como relevante ou não relevante na classificação dos tweets.\n",
    "\n",
    "O nosso produto é a famosa batata \"Ruffles\", consideramos como tweets relevantes os que falassem do produto de uma maneira pejorativa ou positiva. Consideramos como irrelevantes, os tweets que falavam do produto, mas não agregavam nada a ele. Por fim, consideramos muito irrelevantes os tweets que não faziam qualquer tipo de menção ao produto ou que continham conteúdo completamente desagregado ao valor dele."
   ]
  },
  {
   "cell_type": "markdown",
   "metadata": {},
   "source": [
    "___\n",
    "### Montando um Classificador Naive-Bayes\n",
    "\n",
    "Considerando apenas as mensagens da planilha Treinamento, ensine  seu classificador."
   ]
  },
  {
   "cell_type": "code",
   "execution_count": 6,
   "metadata": {},
   "outputs": [],
   "source": [
    "#Criando classes \"cleanup\", usadas para deixar as strings mais padronizadas.\n",
    "\n",
    "def cleanup_pontuacao(tweets):\n",
    "    p = '[!-.:?;\"\\n\"()''\"\",_%$®|=“”—/]'\n",
    "    padrao = re.compile(p)\n",
    "    remove_ponto = re.sub(padrao,' ',tweets)\n",
    "    espaco = ' '\n",
    "    padrao = re.compile(espaco)\n",
    "    tweets_espaco = re.sub(padrao, ' ', remove_ponto)\n",
    "    return tweets_espaco\n",
    "    \n",
    "def cleanup_espacos(tweets):    \n",
    "    espacos = ' '\n",
    "    padrao = re.compile(espacos)\n",
    "    remove_espaco = re.sub(padrao,' ', tweets)\n",
    "    return remove_espaco\n",
    "\n",
    "def cleanup_link(tweets):\n",
    "    link = r'http[^\\s]*'\n",
    "    padrao = re.compile(link)\n",
    "    remove_link = re.sub(padrao,'',tweets)\n",
    "    return remove_link\n",
    "\n",
    "trein_str=str()\n",
    "for n in train['Treinamento']:\n",
    "    trein_str+=' '+n\n",
    "\n",
    "\n",
    "\n",
    "trein = trein_str.lower()\n",
    "trein1 = cleanup_pontuacao(trein)\n",
    "trein2 = cleanup_espacos(trein1)\n",
    "trein_limpo = cleanup_link(trein2)"
   ]
  },
  {
   "cell_type": "code",
   "execution_count": 7,
   "metadata": {},
   "outputs": [],
   "source": [
    "#Usando UNICODE emoji para separar os emojis\n",
    "\n",
    "def seleciona_emoji(character):\n",
    "        return character in emoji.UNICODE_EMOJI \n",
    "    \n",
    "def character_tem_emoji(texto):\n",
    "    return ''.join(' ' + char + ' ' if seleciona_emoji(char) else char for char in texto).strip()    \n",
    "\n",
    "trein_f = character_tem_emoji(trein_limpo)"
   ]
  },
  {
   "cell_type": "code",
   "execution_count": 8,
   "metadata": {},
   "outputs": [
    {
     "data": {
      "text/plain": [
       "ruffles       0.046613\n",
       "de            0.036663\n",
       "e             0.025896\n",
       "que           0.018400\n",
       "a             0.017582\n",
       "                ...   \n",
       "p57fe0mpqd    0.000136\n",
       "sessão        0.000136\n",
       "bota          0.000136\n",
       "bate          0.000136\n",
       "abzcvhyyo5    0.000136\n",
       "Length: 2186, dtype: float64"
      ]
     },
     "execution_count": 8,
     "metadata": {},
     "output_type": "execute_result"
    }
   ],
   "source": [
    "#Criando um pd.Series com todas as palavras e suas frequencias relativas\n",
    "\n",
    "palavras = trein_f.split()\n",
    "\n",
    "total = pd.Series(palavras)\n",
    "total.value_counts(True)"
   ]
  },
  {
   "cell_type": "code",
   "execution_count": 9,
   "metadata": {},
   "outputs": [
    {
     "data": {
      "text/plain": [
       "Muito Irrelevante    0.396\n",
       "Irrelevante          0.330\n",
       "Relevante            0.274\n",
       "Name: Valor, dtype: float64"
      ]
     },
     "execution_count": 9,
     "metadata": {},
     "output_type": "execute_result"
    }
   ],
   "source": [
    "train['Valor']=train['Valor'].astype('category')\n",
    "train['Valor'].cat.categories = [\"Muito Irrelevante\",\"Irrelevante\",\"Relevante\"]\n",
    "\n",
    "train['Valor'].value_counts(True)"
   ]
  },
  {
   "cell_type": "code",
   "execution_count": 10,
   "metadata": {},
   "outputs": [],
   "source": [
    "filtro_0 = train['Valor'] == 'Muito Irrelevante'\n",
    "muito_irrelevante = train.loc[filtro_0,:]\n",
    "\n",
    "filtro_1 = train['Valor'] == 'Irrelevante'\n",
    "irrelevante = train.loc[filtro_1,:]\n",
    "\n",
    "filtro_2 = train['Valor'] == 'Relevante'\n",
    "relevante = train.loc[filtro_2,:]"
   ]
  },
  {
   "cell_type": "code",
   "execution_count": 11,
   "metadata": {
    "scrolled": true
   },
   "outputs": [],
   "source": [
    "#Limpando relevantes da tabela Treinamento com as funções criadas no inicio\n",
    "\n",
    "relevantes_clean=str()\n",
    "for n in relevante['Treinamento']:\n",
    "    relevantes_clean+=' '+n\n",
    "    \n",
    "relevantes = relevantes_clean.lower()\n",
    "relevantes1 = cleanup_pontuacao(relevantes)\n",
    "relevantes2 = cleanup_espacos(relevantes1)\n",
    "relevantes_limpo = cleanup_link(relevantes2)\n",
    "relevantes_emoji = character_tem_emoji(relevantes_limpo)\n",
    "\n",
    "palavras1 = relevantes_emoji.split()\n",
    "total1 = pd.Series(palavras1)"
   ]
  },
  {
   "cell_type": "code",
   "execution_count": 12,
   "metadata": {},
   "outputs": [],
   "source": [
    "#Limpando irrelevantes da tabela Treinamento com as funções criadas no inicio\n",
    "\n",
    "irrelevantes_clean=str()\n",
    "for n in irrelevante['Treinamento']:\n",
    "    irrelevantes_clean+=' '+n\n",
    "    \n",
    "irrelevantes = irrelevantes_clean.lower()\n",
    "irrelevantes1 = cleanup_pontuacao(irrelevantes)\n",
    "irrelevantes2 = cleanup_espacos(irrelevantes1)\n",
    "irrelevantes_limpo = cleanup_link(irrelevantes2)\n",
    "irrelevantes_emoji = character_tem_emoji(irrelevantes_limpo)\n",
    "\n",
    "palavras2 = irrelevantes_emoji.split()\n",
    "total2 = pd.Series(palavras2)"
   ]
  },
  {
   "cell_type": "code",
   "execution_count": 13,
   "metadata": {},
   "outputs": [],
   "source": [
    "#Limpando m_irrelevantes da tabela Treinamento com as funções criadas no inicio\n",
    "\n",
    "m_irrelevantes_clean=str()\n",
    "for n in muito_irrelevante['Treinamento']:\n",
    "    m_irrelevantes_clean+=' '+n\n",
    "    \n",
    "m_irrelevantes = m_irrelevantes_clean.lower()\n",
    "m_irrelevantes1 = cleanup_pontuacao(m_irrelevantes)\n",
    "m_irrelevantes2 = cleanup_espacos(m_irrelevantes1)\n",
    "m_irrelevantes_limpo = cleanup_link(m_irrelevantes2)\n",
    "m_irrelevantes_emoji = character_tem_emoji(m_irrelevantes_limpo)\n",
    "\n",
    "palavras3 = m_irrelevantes_emoji.split()\n",
    "total3 = pd.Series(palavras3)"
   ]
  },
  {
   "cell_type": "code",
   "execution_count": 14,
   "metadata": {},
   "outputs": [],
   "source": [
    "#Criando lista com palavras limpas relevantes\n",
    "\n",
    "relevantes = []\n",
    "\n",
    "for i in relevante['Treinamento']:\n",
    "    relevantes_clean = i.lower()\n",
    "    relevantes1 = cleanup_pontuacao(relevantes_clean)\n",
    "    relevantes2 = cleanup_espacos(relevantes1)\n",
    "    relevantes_limpo = cleanup_link(relevantes2)\n",
    "    relevantes_emoji = character_tem_emoji(relevantes_limpo)\n",
    "    \n",
    "    relevantes.append(relevantes_emoji)"
   ]
  },
  {
   "cell_type": "code",
   "execution_count": 15,
   "metadata": {},
   "outputs": [],
   "source": [
    "#Criando lista com palavras limpas irrelevantes\n",
    "\n",
    "irrelevantes = []\n",
    "\n",
    "for i in irrelevante['Treinamento']:\n",
    "    irrelevantes_clean = i.lower()\n",
    "    irrelevantes1 = cleanup_pontuacao(irrelevantes_clean)\n",
    "    irrelevantes2 = cleanup_espacos(irrelevantes1)\n",
    "    irrelevantes_limpo = cleanup_link(irrelevantes2)\n",
    "    irrelevantes_emoji = character_tem_emoji(irrelevantes_limpo)\n",
    "    \n",
    "    irrelevantes.append(irrelevantes_emoji)"
   ]
  },
  {
   "cell_type": "code",
   "execution_count": 16,
   "metadata": {},
   "outputs": [],
   "source": [
    "#Criando lista com palavras limpas muito irrelevantes\n",
    "\n",
    "m_irrelevantes = []\n",
    "\n",
    "for i in muito_irrelevante['Treinamento']:\n",
    "    m_irrelevantes_clean = i.lower()\n",
    "    m_irrelevantes1 = cleanup_pontuacao(m_irrelevantes_clean)\n",
    "    m_irrelevantes2 = cleanup_espacos(m_irrelevantes1)\n",
    "    m_irrelevantes_limpo = cleanup_link(m_irrelevantes2)\n",
    "    m_irrelevantes_emoji = character_tem_emoji(m_irrelevantes_limpo)\n",
    "    \n",
    "    m_irrelevantes.append(m_irrelevantes_emoji)"
   ]
  },
  {
   "cell_type": "code",
   "execution_count": 17,
   "metadata": {},
   "outputs": [],
   "source": [
    "#Criando lista com todas as palavras limpas\n",
    "\n",
    "todas_palavras = []\n",
    "\n",
    "for i in train['Treinamento']:\n",
    "    todas_clean = i.lower()\n",
    "    todas1 = cleanup_pontuacao(todas_clean)\n",
    "    todas2 = cleanup_espacos(todas1)\n",
    "    todas_limpo = cleanup_link(todas2)\n",
    "    todas_emoji = character_tem_emoji(todas_limpo)\n",
    "    \n",
    "    todas_palavras.append(todas_emoji)"
   ]
  },
  {
   "cell_type": "code",
   "execution_count": 18,
   "metadata": {},
   "outputs": [],
   "source": [
    "# Somando palavras de cada categoria\n",
    "\n",
    "rel = total1.value_counts()\n",
    "total_rel = total1.value_counts().sum()\n",
    "\n",
    "irrel = total2.value_counts()\n",
    "total_irrel = total2.value_counts().sum()\n",
    "\n",
    "m_irrel = total3.value_counts()\n",
    "total_m_irrel = total3.value_counts().sum()\n",
    "\n",
    "total_palavras = total.value_counts()\n",
    "total_palavras_soma = total.value_counts().sum()"
   ]
  },
  {
   "cell_type": "code",
   "execution_count": 19,
   "metadata": {
    "scrolled": true
   },
   "outputs": [],
   "source": [
    "# Smoothing para cada categoria\n",
    "\n",
    "A = len(total_palavras)\n",
    "a = 1\n",
    "\n",
    "smooth_0_rel = rel + a\n",
    "smooth_1_rel = total_rel + A\n",
    "\n",
    "smooth_0_irrel = irrel + a\n",
    "smooth_1_irrel = total_irrel + A\n",
    "\n",
    "smooth_0_m_irrel = m_irrel + a\n",
    "smooth_1_m_irrel = total_m_irrel + A"
   ]
  },
  {
   "cell_type": "code",
   "execution_count": 20,
   "metadata": {},
   "outputs": [],
   "source": [
    "# P(palavra|\"Categoria\")\n",
    "\n",
    "P_pal_rel = smooth_0_rel/smooth_1_rel\n",
    "P_pal_irrel = smooth_0_irrel/smooth_1_irrel\n",
    "P_pal_m_irrel = smooth_0_m_irrel/smooth_1_m_irrel"
   ]
  },
  {
   "cell_type": "code",
   "execution_count": 21,
   "metadata": {},
   "outputs": [],
   "source": [
    "p_palavra_r=1.0\n",
    "\n",
    "p_palavra_i=1.0\n",
    "\n",
    "p_palavra_m = 1.0\n",
    "\n",
    "for i in list(P_pal_rel):\n",
    "    p_palavra_r+=log(i)\n",
    "\n",
    "\n",
    "for i in list(P_pal_irrel):\n",
    "    p_palavra_i=log(i)\n",
    "\n",
    "\n",
    "for i in list(P_pal_m_irrel):\n",
    "    p_palavra_m+=log(i)\n"
   ]
  },
  {
   "cell_type": "code",
   "execution_count": 22,
   "metadata": {},
   "outputs": [],
   "source": [
    "p_relevantes = []\n",
    "p_irrelevantes = []\n",
    "p_m_irrelevantes = []\n",
    "\n",
    "for i in relevantes:\n",
    "    p = log(train[\"Valor\"].value_counts(True)[2])\n",
    "    for palavra in i.split():\n",
    "        if palavra in P_pal_rel:\n",
    "            p += log(P_pal_rel[palavra])\n",
    "        else:\n",
    "            p += log(a/total_rel + A*a)\n",
    "    p_relevantes.append(p)\n",
    "\n",
    "\n",
    "for i in irrelevantes:\n",
    "    p = log(train[\"Valor\"].value_counts(True)[1])\n",
    "    for palavra in i.split():\n",
    "        if palavra in P_pal_irrel:\n",
    "            p += log(P_pal_irrel[palavra])\n",
    "        else:\n",
    "            p += log(a/total_irrel + A*a)\n",
    "    p_irrelevantes.append(p)\n",
    "    \n",
    "\n",
    "for i in m_irrelevantes:\n",
    "    p = log(train[\"Valor\"].value_counts(True)[0])\n",
    "    for palavra in i.split():\n",
    "        if palavra in P_pal_m_irrel:\n",
    "            p += log(P_pal_m_irrel[palavra])\n",
    "        else:\n",
    "            p += log(a/total_m_irrel + A*a)\n",
    "    p_m_irrelevantes.append(p)\n",
    "    \n"
   ]
  },
  {
   "cell_type": "code",
   "execution_count": 23,
   "metadata": {},
   "outputs": [],
   "source": [
    "# Criando dicionários com keys = palavra, e values = probabilidade, de cada categoria\n",
    "\n",
    "d_relevante = {}\n",
    "for i in range(len(relevantes)):\n",
    "    d_relevante[relevantes[i]] = p_relevantes[i]\n",
    "\n",
    "\n",
    "d_irrelevante = {}\n",
    "for i in range(len(irrelevantes)):\n",
    "    d_irrelevante[irrelevantes[i]] = p_irrelevantes[i]\n",
    "\n",
    "\n",
    "d_m_irrelevante = {}\n",
    "for i in range(len(m_irrelevantes)):\n",
    "    d_m_irrelevante[m_irrelevantes[i]] = p_m_irrelevantes[i]\n",
    "    \n",
    "\n",
    "# Criando código que identifica se uma palavra de ser considerada Relevante, Irrelevante ou Muito irrelevante e adiciona em um dicionario\n",
    "\n",
    "    \n",
    "d_final = {}\n",
    "\n",
    "for k_r,v_r in d_relevante.items():\n",
    "    for k_i,v_i in d_irrelevante.items():\n",
    "        for k_m,v_m in d_m_irrelevante.items():\n",
    "            \n",
    "            if (k_r == k_i) and (k_r != k_m):\n",
    "                if (v_r > v_i):\n",
    "                    d_final[k_r] = \"Relevante\"\n",
    "                elif (v_i > v_r):\n",
    "                    d_final[k_i] = \"Irrelevante\"\n",
    "                    \n",
    "            elif (k_r != k_i) and (k_r == k_m):\n",
    "                if (v_r > v_m):\n",
    "                    d_final[k_r] = \"Relevante\"\n",
    "                elif (v_m > v_r):\n",
    "                    d_final[k_m] = \"Muito irrelevante\"\n",
    "                    \n",
    "            elif (k_i == k_m) and (k_i != k_r):\n",
    "                if (v_i > v_m):\n",
    "                    d_final[k_i] = \"Irrelevante\"\n",
    "                elif (v_m > v_i):\n",
    "                    d_final[k_m] = \"Muito irrelevante\"\n",
    "                    \n",
    "            elif (k_i == k_m) and  (k_i == k_r):\n",
    "                if (v_r > v_i) and (v_r > v_m):\n",
    "                    d_final[k_r] = \"Relevante\"\n",
    "                elif (v_i > v_r) and (v_i > v_m):\n",
    "                    d_final[k_i] = \"Irrelevante\"\n",
    "                elif (v_m > v_r) and (v_m > v_i):\n",
    "                    d_final[k_m] = \"Muito irrelevante\"\n",
    "\n",
    "            elif (k_r!=k_i) and (k_r!=k_m) and (k_m!=k_i):\n",
    "                if k_r not in d_final:\n",
    "                    d_final[k_r] = 'Relevante'\n",
    "\n",
    "                elif k_i not in d_final:\n",
    "                    d_final[k_i] = 'Irrelevante'\n",
    "\n",
    "                elif k_m not in d_final:\n",
    "                    d_final[k_m] = 'Muito irrelevante'\n"
   ]
  },
  {
   "cell_type": "code",
   "execution_count": 24,
   "metadata": {},
   "outputs": [],
   "source": [
    "d_total ={}\n",
    "\n",
    "for i in todas_palavras:\n",
    "    for k_f,v_f in d_final.items():\n",
    "        if k_f == i:\n",
    "            d_total[i] = v_f\n",
    "            \n",
    "lista_final = []\n",
    "\n",
    "for i in d_total.values():\n",
    "    lista_final.append(i)\n",
    "    \n",
    "Naive_Bayes= pd.Series(lista_final)\n",
    "train['Naive Bayes'] = Naive_Bayes \n",
    "\n",
    "lista_relevancia = []\n",
    "for i in d_final.values():\n",
    "    lista_relevancia.append(i)"
   ]
  },
  {
   "cell_type": "markdown",
   "metadata": {},
   "source": [
    "##### ___\n",
    "### Verificando a performance do Classificador\n",
    "\n",
    "Agora você deve testar o seu classificador com a base de Testes."
   ]
  },
  {
   "cell_type": "code",
   "execution_count": 25,
   "metadata": {},
   "outputs": [],
   "source": [
    "test['Valor'] = test['Valor'].astype('category')\n",
    "\n",
    "test['Valor'].cat.categories = [\"Muito irrelevante\",\"Irrelevante\",\"Relevante\"]"
   ]
  },
  {
   "cell_type": "code",
   "execution_count": 26,
   "metadata": {},
   "outputs": [
    {
     "data": {
      "text/html": [
       "<div>\n",
       "<style scoped>\n",
       "    .dataframe tbody tr th:only-of-type {\n",
       "        vertical-align: middle;\n",
       "    }\n",
       "\n",
       "    .dataframe tbody tr th {\n",
       "        vertical-align: top;\n",
       "    }\n",
       "\n",
       "    .dataframe thead th {\n",
       "        text-align: right;\n",
       "    }\n",
       "</style>\n",
       "<table border=\"1\" class=\"dataframe\">\n",
       "  <thead>\n",
       "    <tr style=\"text-align: right;\">\n",
       "      <th>Relevancia Naive Bayes</th>\n",
       "      <th>Irrelevante</th>\n",
       "      <th>Muito irrelevante</th>\n",
       "      <th>Relevante</th>\n",
       "    </tr>\n",
       "    <tr>\n",
       "      <th>Valor</th>\n",
       "      <th></th>\n",
       "      <th></th>\n",
       "      <th></th>\n",
       "    </tr>\n",
       "  </thead>\n",
       "  <tbody>\n",
       "    <tr>\n",
       "      <th>Muito irrelevante</th>\n",
       "      <td>0.072</td>\n",
       "      <td>0.272</td>\n",
       "      <td>0.004</td>\n",
       "    </tr>\n",
       "    <tr>\n",
       "      <th>Irrelevante</th>\n",
       "      <td>0.064</td>\n",
       "      <td>0.224</td>\n",
       "      <td>0.000</td>\n",
       "    </tr>\n",
       "    <tr>\n",
       "      <th>Relevante</th>\n",
       "      <td>0.072</td>\n",
       "      <td>0.292</td>\n",
       "      <td>0.000</td>\n",
       "    </tr>\n",
       "  </tbody>\n",
       "</table>\n",
       "</div>"
      ],
      "text/plain": [
       "Relevancia Naive Bayes  Irrelevante  Muito irrelevante  Relevante\n",
       "Valor                                                            \n",
       "Muito irrelevante             0.072              0.272      0.004\n",
       "Irrelevante                   0.064              0.224      0.000\n",
       "Relevante                     0.072              0.292      0.000"
      ]
     },
     "execution_count": 26,
     "metadata": {},
     "output_type": "execute_result"
    }
   ],
   "source": [
    "# Verificando performance do classificador com a base de dados \"Teste\"\n",
    "\n",
    "l_teste = []\n",
    "\n",
    "for i in test[\"Teste\"]:\n",
    "    t1 = i.lower()\n",
    "    t2 = cleanup_pontuacao(t1)\n",
    "    t3 = cleanup_espacos(t2)\n",
    "    t4 = cleanup_link(t3)\n",
    "    t = character_tem_emoji(t4)\n",
    "    l_teste.append(t)\n",
    "    \n",
    "    \n",
    "v = pd.Series(l_teste)\n",
    "test['Naive Bayes'] = v\n",
    "\n",
    "\n",
    "d_final_t = {}\n",
    "\n",
    "for i in l_teste:\n",
    "    for k,v in d_final.items():\n",
    "        if k == i:\n",
    "            d_final_t[i] = v\n",
    "\n",
    "\n",
    "relevancia = []\n",
    "\n",
    "for i in d_final_t.values():\n",
    "    relevancia.append(i)\n",
    "    \n",
    "test[\"Relevancia Naive Bayes\"] = pd.Series(lista_relevancia)\n",
    "\n",
    "teste = pd.crosstab(test[\"Valor\"],test[\"Relevancia Naive Bayes\"],normalize= True)\n",
    "teste"
   ]
  },
  {
   "cell_type": "code",
   "execution_count": 27,
   "metadata": {},
   "outputs": [],
   "source": [
    "falso_positivo_r = 36.4\n",
    "verdadeiro_positivo_r = 0\n",
    "\n",
    "falso_positivo_i = 22.4\n",
    "verdadeiro_positivo_i = 6.4\n",
    "\n",
    "falso_positivo_m = 7.6\n",
    "verdadeiro_positivo_m = 27.2"
   ]
  },
  {
   "cell_type": "code",
   "execution_count": 28,
   "metadata": {},
   "outputs": [
    {
     "name": "stdout",
     "output_type": "stream",
     "text": [
      "Verdadeiro Positivo Relevantes =  0\n",
      "Falso Positivo Relevantes =  36.4\n"
     ]
    }
   ],
   "source": [
    "# Positivos falsos e verdadeiros da categoria Relevante\n",
    "\n",
    "print('Verdadeiro Positivo Relevantes = ',verdadeiro_positivo_r)\n",
    "print('Falso Positivo Relevantes = ',falso_positivo_r)"
   ]
  },
  {
   "cell_type": "code",
   "execution_count": 29,
   "metadata": {},
   "outputs": [
    {
     "name": "stdout",
     "output_type": "stream",
     "text": [
      "Verdadeiro Positivo Irrelevantes =  6.4\n",
      "Falso Positivo Irrelevantes =  22.4\n"
     ]
    }
   ],
   "source": [
    "# Positivos falsos e verdadeiros da categoria Irrelevante\n",
    "\n",
    "print('Verdadeiro Positivo Irrelevantes = ',verdadeiro_positivo_i)\n",
    "print('Falso Positivo Irrelevantes = ',falso_positivo_i)"
   ]
  },
  {
   "cell_type": "code",
   "execution_count": 30,
   "metadata": {},
   "outputs": [
    {
     "name": "stdout",
     "output_type": "stream",
     "text": [
      "Verdadeiro Positivo Muito irrelevantes =  27.2\n",
      "Falso Positivo Muito irrelevantes =  7.6\n"
     ]
    }
   ],
   "source": [
    "# Positivos falsos e verdadeiros da categoria Muito irrelevante\n",
    "\n",
    "print('Verdadeiro Positivo Muito irrelevantes = ',verdadeiro_positivo_m)\n",
    "print('Falso Positivo Muito irrelevantes = ',falso_positivo_m)"
   ]
  },
  {
   "cell_type": "code",
   "execution_count": 31,
   "metadata": {},
   "outputs": [
    {
     "name": "stdout",
     "output_type": "stream",
     "text": [
      "A acurácia do classificador é  35.6 %.\n"
     ]
    }
   ],
   "source": [
    "# Calculando a acurácia do nosso classificador\n",
    "\n",
    "a_t = (teste.iloc[1,0]+teste.iloc[2,1])*100\n",
    "print(\"A acurácia do classificador é \",a_t,\"%.\")"
   ]
  },
  {
   "cell_type": "markdown",
   "metadata": {},
   "source": [
    "___\n",
    "### Concluindo"
   ]
  },
  {
   "cell_type": "markdown",
   "metadata": {},
   "source": [
    "Podemos concluir que, de acordo com a acurácia do nosso classificador, o mesmo não é muito preciso. Apesar disso, vale ressaltar o processo de construção do classificador. Primeiramente, escolhemos um produto - Ruffles -, selecionamos um número abundante de tweets e os classificamos em três categorias: \"relevantes\", \"irrelevantes\" e \"muito irrelevantes\". Em seguida, limpamos todos os tweets, removendo os caracteres considerados \"desnecessários\", pois não ajudariam na classificação. De tal maneira, links, e espaços extras  foram removidos, dando lugar à espaçamentos necessários entre emojis e palavras. Assim, fizemos uma separação dos tweets em listas de acordo com cada categoria e demos valores subsequentes relacionando cada palavra e sua frequência. \n",
    "\n",
    "Com a primeira classificação feita, criamos um \"smoothing\", que impede que uma palavra desconhecida zere a conta da classificação. Como etapa final da classificação, fizemos um código para receber tweets e de acordo com cada palavra, atribuímos um valor referente às etapas passadas. Com esses valores o classificador faz uma conta e decide a qual categoria o tweet pertence. Um dos possíveis motivos pelo qual a acurácia ficou tão baixa se deve a forma como classificamos cada frase no começo, pois não levamos em consideração palavras que tendem a descrever a relevância do tweet para o produto. Não poderiamos utilizar o nosso classificador para gerar mais amostras de treinamento pois ele não tem uma acurácia de 100% e isso acarretaria em classificações erronêas que acabariam prejudicando a acurácia do classificador ainda mais. Uma maneira de melhorar nosso calssificador seria se seguissemos um padrão melhor ao classificar nossa base de treinamento, por exemplo, se classificassemos cada tweet prestando atenção tanto em sua relevância pelo sentido da frase quanto a relevância possivel de cada palavra. O classificador poderia ser utilizado também por seguros de saúde, em relação a escolha de quem eles aceitam, pois podem ver se o cliente tem \"alta ou baixa\" probabilidade de necessitar de atendimento médico frequente, ou também poderia ser utilizado por algum tipo de segurança ou polícia para saber se pessoas tem \"alta ou baixa\" tendência a cometer um crime de acordo com suas ações na internet. Se formos pensar em comentários sarcásticos e com dupla negação, podemos concluir que estes podem atrapalhar o classificador atual se não forem identificados, portanto se conseguíssemos melhorar ele ao ponto de conseguir identificar tais comentários, teriamos milhares de funções para ele, mas para isso, necessitariamos de mais fundos e tempo."
   ]
  },
  {
   "cell_type": "code",
   "execution_count": null,
   "metadata": {},
   "outputs": [],
   "source": []
  },
  {
   "cell_type": "code",
   "execution_count": null,
   "metadata": {},
   "outputs": [],
   "source": []
  },
  {
   "cell_type": "markdown",
   "metadata": {},
   "source": [
    "___\n",
    "## Aperfeiçoamento:\n",
    "\n",
    "Os trabalhos vão evoluir em conceito dependendo da quantidade de itens avançados:\n",
    "\n",
    "* Limpar: \\n, :, \", ', (, ), etc SEM remover emojis\n",
    "* Corrigir separação de espaços entre palavras e emojis ou entre emojis e emojis\n",
    "* Propor outras limpezas e transformações que não afetem a qualidade da informação ou classificação\n",
    "* Criar categorias intermediárias de relevância baseadas na probabilidade: ex.: muito relevante, relevante, neutro, irrelevante, muito irrelevante (3 categorias: C, mais categorias conta para B)\n",
    "* Explicar por que não posso usar o próprio classificador para gerar mais amostras de treinamento\n",
    "* Propor diferentes cenários para Naïve Bayes fora do contexto do projeto\n",
    "* Sugerir e explicar melhorias reais com indicações concretas de como implementar (indicar como fazer e indicar material de pesquisa)\n"
   ]
  },
  {
   "cell_type": "markdown",
   "metadata": {},
   "source": [
    "___\n",
    "## Referências"
   ]
  },
  {
   "cell_type": "markdown",
   "metadata": {},
   "source": [
    "[Naive Bayes and Text Classification](https://arxiv.org/pdf/1410.5329.pdf)  **Mais completo**\n",
    "\n",
    "[A practical explanation of a Naive Bayes Classifier](https://monkeylearn.com/blog/practical-explanation-naive-bayes-classifier/) **Mais simples**"
   ]
  },
  {
   "cell_type": "code",
   "execution_count": null,
   "metadata": {},
   "outputs": [],
   "source": []
  }
 ],
 "metadata": {
  "kernelspec": {
   "display_name": "Python 3",
   "language": "python",
   "name": "python3"
  },
  "language_info": {
   "codemirror_mode": {
    "name": "ipython",
    "version": 3
   },
   "file_extension": ".py",
   "mimetype": "text/x-python",
   "name": "python",
   "nbconvert_exporter": "python",
   "pygments_lexer": "ipython3",
   "version": "3.8.3"
  }
 },
 "nbformat": 4,
 "nbformat_minor": 4
}

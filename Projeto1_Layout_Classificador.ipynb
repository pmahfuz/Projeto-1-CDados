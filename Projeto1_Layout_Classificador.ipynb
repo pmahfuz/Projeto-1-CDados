{
 "cells": [
  {
   "cell_type": "markdown",
   "metadata": {},
   "source": [
    "# Projeto 1 - Ciência dos Dados"
   ]
  },
  {
   "cell_type": "markdown",
   "metadata": {},
   "source": [
    "Nome: Arthur Fuhrken\n",
    "\n",
    "Nome: Pedro Mahfuz\n",
    "\n",
    "Nome: Rodrigo Furukawa"
   ]
  },
  {
   "cell_type": "markdown",
   "metadata": {},
   "source": [
    "Atenção: Serão permitidos grupos de três pessoas, mas com uma rubrica mais exigente. Grupos deste tamanho precisarão fazer um questionário de avaliação de trabalho em equipe"
   ]
  },
  {
   "cell_type": "markdown",
   "metadata": {},
   "source": [
    "___\n",
    "Carregando algumas bibliotecas:"
   ]
  },
  {
   "cell_type": "code",
   "execution_count": 1,
   "metadata": {},
   "outputs": [],
   "source": [
    "%matplotlib inline\n",
    "import pandas as pd\n",
    "import matplotlib.pyplot as plt\n",
    "import numpy as np\n",
    "import os\n",
    "import re\n",
    "import emoji"
   ]
  },
  {
   "cell_type": "code",
   "execution_count": 2,
   "metadata": {
    "scrolled": false
   },
   "outputs": [
    {
     "name": "stdout",
     "output_type": "stream",
     "text": [
      "Esperamos trabalhar no diretório\n",
      "C:\\Users\\osbor\\Documents\\2021.1\\Cdados DP\\Projeto 1\n"
     ]
    }
   ],
   "source": [
    "print('Esperamos trabalhar no diretório')\n",
    "print(os.getcwd())"
   ]
  },
  {
   "cell_type": "markdown",
   "metadata": {},
   "source": [
    "Carregando a base de dados com os tweets classificados como relevantes e não relevantes:"
   ]
  },
  {
   "cell_type": "code",
   "execution_count": 3,
   "metadata": {},
   "outputs": [],
   "source": [
    "filename = 'ruffles.xlsx'"
   ]
  },
  {
   "cell_type": "code",
   "execution_count": 4,
   "metadata": {},
   "outputs": [
    {
     "data": {
      "text/html": [
       "<div>\n",
       "<style scoped>\n",
       "    .dataframe tbody tr th:only-of-type {\n",
       "        vertical-align: middle;\n",
       "    }\n",
       "\n",
       "    .dataframe tbody tr th {\n",
       "        vertical-align: top;\n",
       "    }\n",
       "\n",
       "    .dataframe thead th {\n",
       "        text-align: right;\n",
       "    }\n",
       "</style>\n",
       "<table border=\"1\" class=\"dataframe\">\n",
       "  <thead>\n",
       "    <tr style=\"text-align: right;\">\n",
       "      <th></th>\n",
       "      <th>Treinamento</th>\n",
       "      <th>Valor</th>\n",
       "    </tr>\n",
       "  </thead>\n",
       "  <tbody>\n",
       "    <tr>\n",
       "      <th>0</th>\n",
       "      <td>uma criancinha deu um ruffles pra ela</td>\n",
       "      <td>1</td>\n",
       "    </tr>\n",
       "    <tr>\n",
       "      <th>1</th>\n",
       "      <td>rt @favskyliex: 📖 sorteio 📖\\n\\npara concorrer ...</td>\n",
       "      <td>0</td>\n",
       "    </tr>\n",
       "    <tr>\n",
       "      <th>2</th>\n",
       "      <td>@_adryelleac @americanascom aí sim, adry! imag...</td>\n",
       "      <td>2</td>\n",
       "    </tr>\n",
       "    <tr>\n",
       "      <th>3</th>\n",
       "      <td>@b_ruffles eu vo para de estuda também</td>\n",
       "      <td>0</td>\n",
       "    </tr>\n",
       "    <tr>\n",
       "      <th>4</th>\n",
       "      <td>assimmm completamente eu arrumando as parede d...</td>\n",
       "      <td>0</td>\n",
       "    </tr>\n",
       "  </tbody>\n",
       "</table>\n",
       "</div>"
      ],
      "text/plain": [
       "                                         Treinamento  Valor\n",
       "0              uma criancinha deu um ruffles pra ela      1\n",
       "1  rt @favskyliex: 📖 sorteio 📖\\n\\npara concorrer ...      0\n",
       "2  @_adryelleac @americanascom aí sim, adry! imag...      2\n",
       "3             @b_ruffles eu vo para de estuda também      0\n",
       "4  assimmm completamente eu arrumando as parede d...      0"
      ]
     },
     "execution_count": 4,
     "metadata": {},
     "output_type": "execute_result"
    }
   ],
   "source": [
    "train = pd.read_excel(filename)\n",
    "train.head(5)"
   ]
  },
  {
   "cell_type": "code",
   "execution_count": 5,
   "metadata": {},
   "outputs": [
    {
     "data": {
      "text/html": [
       "<div>\n",
       "<style scoped>\n",
       "    .dataframe tbody tr th:only-of-type {\n",
       "        vertical-align: middle;\n",
       "    }\n",
       "\n",
       "    .dataframe tbody tr th {\n",
       "        vertical-align: top;\n",
       "    }\n",
       "\n",
       "    .dataframe thead th {\n",
       "        text-align: right;\n",
       "    }\n",
       "</style>\n",
       "<table border=\"1\" class=\"dataframe\">\n",
       "  <thead>\n",
       "    <tr style=\"text-align: right;\">\n",
       "      <th></th>\n",
       "      <th>Teste</th>\n",
       "      <th>Valor</th>\n",
       "    </tr>\n",
       "  </thead>\n",
       "  <tbody>\n",
       "    <tr>\n",
       "      <th>0</th>\n",
       "      <td>@vulgo_ruffles amo vc 🥰🥰</td>\n",
       "      <td>0</td>\n",
       "    </tr>\n",
       "    <tr>\n",
       "      <th>1</th>\n",
       "      <td>rt @igoritonobrasil: 🏐💕 amor doce 💕🏐\\n#haikyuu...</td>\n",
       "      <td>0</td>\n",
       "    </tr>\n",
       "    <tr>\n",
       "      <th>2</th>\n",
       "      <td>rt @bonecker_: incrível que eu taco o fodase p...</td>\n",
       "      <td>2</td>\n",
       "    </tr>\n",
       "    <tr>\n",
       "      <th>3</th>\n",
       "      <td>[9:55 pm, 17/03/2021] alexia: eu comi só ruffl...</td>\n",
       "      <td>1</td>\n",
       "    </tr>\n",
       "    <tr>\n",
       "      <th>4</th>\n",
       "      <td>hj não foi um bom dia</td>\n",
       "      <td>0</td>\n",
       "    </tr>\n",
       "  </tbody>\n",
       "</table>\n",
       "</div>"
      ],
      "text/plain": [
       "                                               Teste  Valor\n",
       "0                           @vulgo_ruffles amo vc 🥰🥰      0\n",
       "1  rt @igoritonobrasil: 🏐💕 amor doce 💕🏐\\n#haikyuu...      0\n",
       "2  rt @bonecker_: incrível que eu taco o fodase p...      2\n",
       "3  [9:55 pm, 17/03/2021] alexia: eu comi só ruffl...      1\n",
       "4                              hj não foi um bom dia      0"
      ]
     },
     "execution_count": 5,
     "metadata": {},
     "output_type": "execute_result"
    }
   ],
   "source": [
    "test = pd.read_excel(filename, sheet_name = 'Teste')\n",
    "test.head(5)"
   ]
  },
  {
   "cell_type": "markdown",
   "metadata": {},
   "source": [
    "___\n",
    "## Classificador automático de sentimento\n"
   ]
  },
  {
   "cell_type": "markdown",
   "metadata": {},
   "source": [
    "Faça aqui uma descrição do seu produto e o que considerou como relevante ou não relevante na classificação dos tweets.\n",
    "\n",
    "O nosso produto é a famosa batata \"Ruffles\", consideramos como tweets relevantes os que falassem do produto de uma maneira pejorativa ou positiva. Consideramos como irrelevantes, os tweets que falavam do produto, mas não agregavam nada a ele. Por fim, consideramos muito irrelevantes os tweets que não faziam qualquer tipo de menção ao produto ou que continham conteúdo completamente desagregado ao valor dele."
   ]
  },
  {
   "cell_type": "markdown",
   "metadata": {},
   "source": [
    "___\n",
    "### Montando um Classificador Naive-Bayes\n",
    "\n",
    "Considerando apenas as mensagens da planilha Treinamento, ensine  seu classificador."
   ]
  },
  {
   "cell_type": "code",
   "execution_count": 6,
   "metadata": {},
   "outputs": [
    {
     "data": {
      "text/plain": [
       "' uma criancinha deu um ruffles pra ela rt @favskyliex: 📖 sorteio 📖\\n\\npara concorrer um box de livros até r$ 250 siga as regras:\\n\\n- seguir @favskyliex / @aeiinglthyns / @booksspace… @_adryelleac @americanascom aí sim, adry! imagina comprar uma ruffles® tira onda por apenas 0,99 centavos! isso é coisa de outro mundo... 😝🌀 @b_ruffles eu vo para de estuda também assimmm completamente eu arrumando as parede do quarto!!!  o jeitoq eu comi só metade de um pacote de batata ruffles e minha glicose foi de 85 pra 110 eu quero me m nao aguento mais a androginia quero ser bin4r14 ruffles de churrasco e uma coca bem geladinha é tudo pra mim é só em mim que o salgadinho ruffles da dor de cabeça? sempre escolho ruffles ou sensações  rt @miyadzu_: o mlk de vila agora feliz voltará para sua mansão pra comer ruffles com tampico e mascar um ping pong de sobremesa 🤝 @m4rodri nossa eu parei no ruffles, n aguentei. olha a manteia no inicio do video mano pqp do nada mo vontade de comer um ruffles @fodaseopreton mas nada é o charme do guri ruffles® divulga mistério na americanas  via @youtube @belinhabluwjj @icedasestrelas blz ent ruffles @lfemiranda vou até comprar um rufflees pra ver na elegância \\n@ruffles_oficial @euotrouxa pra mim é sensações de frango,cheetos de requeijão ou ruffles de churrasco... nossa senhora,é muito bom 💘 @raikan_29 e o da ruffles e daquele kawai sla da maozinha pqp que infernooo agora tô aqui deitada tomando um ceva geladinha e comendo ruffles ❤️😊 comendo ruffles e ouvindo zeca pagodinho @emyypo aoooooba desse mais uma comprei uma capinha de vaquinha taaaoo fofa rt @avoarcomunicac1: ➡é @pringlesbrasil, a gente sabe bem como você se sente.\\n\\nmas ninguém copia o ruim, né⁉\\n\\npor um mundo com mais batata… @dorysaopaulino ruffles é uma desgraça rt @frasesdem3rda: 8 copos de água por dia: difícil\\n\\n10 minis, 4 beirões e 5 shots em 4 horas: fácil @jc31424523 @jessinitta @euotrouxa ruffles é pessimo, mil vezes lays ruffles de lata por r$0,99 com r$0,10 de cashback e frete grátis foi o auge do auge @emyypo tá bom, eu amasso o fdp #ruffles \\no verão é mais hot \\n@elmachips  cetrion selecionou kung lao: \\n\\n-só digo uma coisa, teu corrompido &gt;&gt;&gt;&gt;&gt;&gt; você. \\n\\n-tá igual a ruffles né? cheia de onda. @emyypo fica feia nunk ? @vicvillanova @xcactox @lojasamericanas olá! infelizmente os cupons eram limitados, mas você ainda pode garantir sua ruffles® tira onda no site ou no app das lojas americanas e também através do nosso portal de realidade aumentada! não fique de fora dessa!😉 @nathinblue eu me prostituia pra comer ruffles @rufflestheverse ruffles que coisa mais lindaaaa , ficou incrível sério, vai ficar lindo demais, ameeei \\n\\na futura arquitetura qur habita em mim ta surtando agora queria muito uma ruffles mas nao tenho coragem de pagar 10 reais - alô é do sac da ruffles?\\n\\n- é...\\n \\n- só queria avisar que o saco de ar de vocês está vindo com umas batatinhas dentro. quem me ama mais me manda uma ruffles de churrasco c uma coca, 3, 2, 1, valendo @ruffles_clara12 to nessa tbm 😪 @b_ruffles aqui\\n\\n eu e a alana sempre, quando não era mixirica era ruffles  marquei as tattoos 😍 se a helissa fosse minha amiga mesmo ela me traria uma ruffles sabor churras o efeito terapêutico de ver o mesmo tiktok 50 vezes até esquecer oq ta sentindo :p @kamisssl afff eu acho que gosto do sabor mais cancerígeno porque minha fav é \\nruffles churrasco 😎 vazo a nova garota propaganda da ruffles  @cris_snt2 vinha so baconzitos e dois ruffles comprei uns chocolatin, ruffles e balinha pra minha irmã e meu cunhado, deixei no quarto q eles ficam aqui em casa, espero que gostem queria estar me acabando de comer chocolate com energético e ruffles de cebola e salsa essas horas que eu queria tá ouvindo os ronco dela rt @m4rkl0ve: oh céus  @euotrouxa @polybilizario cheetos azul ou ruffles ruffles com cafézinho no café da manhã\\n\\ndelicia @b_ruffles calma aí @games2112 é um ruffles tipo de pimenta, não recomendo @notisgallinari ruffles salsa e cebola com presunto queria  uma ruffles 2 ruffles por 5 reais, meu estoque tá feito pra minha folga rt @sapartista: ✨🌈 bandeira lésbica labrys 🌈✨\\n* outras bandeiras disponíveis!! \\nr$55 + frete\\n\\n🔄+❤️= ajudam muito meu trabalho!!  a noite vou fazer sessão cinema, + de 4h de filme! comprar pipoca, ruffles, docinhos e refrigerante. digno de cinema 😌☺️🤙🏽 só vem snyder cut 🔥 \\nc não quer vir @12crfgk 🤧🤤  @vulgo_ruffles 🔥🔥🔥🔥🔥🔥🔥esquece @rafaelamarcon_ queria seu brigadeiro com ruffles 🥺 sdds @jennifercoura11 ruffles cebola e salsa 🥰 ruffles ou sensações, simples  qual eh a melhor ruffles e pq a sabor queijo e amanhã a ana maria vai ter que servir uma ruffles com coca pq é só o que ele come. irei focar em comer comidas saudáveis durante esse fds pq hoje a minha alimentação foi uma ruffles um sonho e agr vou comer um miojo 👍👍👍👍 inclusive no purê de batata lays e na ruffles com água de mangueira ❤️  que vontade besta de comer um salgadin com gostinho de hipertensão \\n\\ndoritos, fandangos, cheetos, ruffles tanto faz @eu_sou_gostoso eu vo parar de comer @emyypo vc não gosta de vestido ruffles de cebola ou sensações qualquer um  ninguém\\nabsolutamente ninguém: a\\n\\neu: o que vocês tão achando da nova ruffles® tira onda? \\nse ainda não provou, garanta  a sua em \\n #rufflestiraonda #outromundoruffles @direction10s aa sim, gosto bastante de ruffles e pringles do resto q vc falou não suporto nem o cheiro @gabypereiran essa hora eu cai la de cima 🥺🥺 @ruffles_oficial só se for o da bahia @affectgillespie kkkkkk juro, foi num perrengue de jogos de faculdade que eu inventei essa perfeição! só tinha uma moça vendendo tapioca de queijo e eu com um saquinho de ruffles na mão, juntei ketchup e foi a refeição que me salvou de uma ressaca monstruosa @marinexx5 amg, batata palha é igual ruffles @bibsvivissima doritos,  baconzitos, cheetos e ruffles @gibbepls @ruffles_oficial que traira kkkkk acho é bom esse suplemento ser gostoso pq comprei 1kg e agr vou ter que tomar vontade da porra de comer ruffles vsfd @oagra @nataliaosouza prove agora! bom demais! 😋 eu amo batata ruffles de churrasco com brigadeiro 😎eita delicia @santospaulinho considerando q até sopa virou janta...pipoca pode ser sim. daqui a pouco ruffles vai ser janta tbm. @euotrouxa ruffles ou chettos requeijão. fim nunca senti tanta sdd de algo qnt sinto de um ruffles de cebola e salsa @_mfitas_ bem eu cá prefiro doritos a ruffles...mas isso já vai depender se acreditar todo o privado e uma grande oligarquia 😁 rt @sapartista: finalmente\\ncriei meu site\\n\\njá podem fazer comprinhas por lá😭🥰❤️\\n  gente o ruffles de ketchup saiu de linha? faz tanto tempo q nao acho no supermercado era o melhor @gabypereiran hahahahahah tava tudo bem até agora 🙈 @vulgo_ruffles do mundo @wicchitta depende que ruffles o que doritos 🤷🏽\\u200d♂️ fui provar a ruffles picante, que coisa horrível @almotchellis toddynho com ruffles no cafe da manhã era o sonho nao vo para de exalta nunca a trilha dessa novela serio que obra de arte cirandeira globo sua suja pra que faze isso meu estoque de ruffles acabou e agr???? @soft_ruffles mto fofasss🤧🤧 @ruffles_oficial tenho uma saudade enorme da ruffles de mostarda com mel, só queria que voltasse @ruffles_oficial deixa a gente no vácuo e olha que ar é o que não falta nas embalagens! eu toda querendo bancar o moreno mas só podendo dar umas cervejas e ruffles ou meia pizza de vez em nunca  @xcactox @ruffles_oficial @lojasamericanas não tava aceitando o cupom 🤡 rt @thedobrev10: esclareçam-me:\\n\\nruffles presunto - rt\\nruffles ketchup - fav  ouça me bem querida\\nembora saiba que ja estas resolvida @riddleapologist pringles é mt caro vou te mandar um ruffles hoje só uma vitamina r (ruffles flaming hot) @maluucadacabeca passa o endereço @sofiapetersenp disso eu gosto, ruffles não @baptistamiran batata ruffles de cebola &amp; salsa embalagem econômica @ruffles_oficial faz acontecer pra mim e manda um saquinho no meu colo, vai?!  @ruffles_oficial o que adianta fazer essa promoção, se não entrega! @gibbepls @leoh_onizuka arrasou tirando uma onda, hein!!😉💙 @ruffles_oficial oi adm da ruffles, por favor dá uma ideia no seu chefe pra ele fazer uma batatinha sabor queijo parmesão. toda vez que eu como a batata palha sabor parmesão fico pensando que daria uma ótima edição especial da ruffles 💚 @vulgo_ruffles pode pa @isanoggueira só deu pra pegar um af\\n\\nmas tenta ai  juliette e gil falando e gritando na prova é tipo a galera que leva ruffles pra fazer enem. sou viciada em batata ruffles de churrasco e de cebola 🤤🤤🥰 @daniiellelle eu não gosto de ruffles tbm rt @xlwvwz0: ruffles de ketchup são as melhores e nem há discussão o anúncio da ruffles tá igual a stranger things @rebeccasilvaa__ se liga nessa aqui da pringles pra ruffles kkkkkk  aleguem soca minha cara pra eu desmaiar de vez, não aguento mais essa aulaaaaa que sonoooooo ruffles de queijo = ♥ @clebinhorr sofrer e eu que pedi a batata nova da @ruffles_oficial com a @americanascom ontem e ia receber hoje e canceram meu pedido 🤡🤡🤡 ruffles cebola&amp;salsa é muito ruim @giu_souz queria ruffles d churrasco poxa👉🏻👈🏻🥺 poxa @americanascom @lojasamericanas 2 dias atrás eu comprei aquela ruffles nova pra entrega no mesmo dia, além de demorar 2 dias pra entregar ainda me mandam produto errado, aí é tenso  @ruffles_oficial quando acabar o lock down eu compro @eusoreclamo_ kkkkkkkk q odioooo... so de raiva na volta do médico passei no supermercado comprei um ruffles e um doce de leite 😡😡😡 rt @guiathaide: alguém pode me dizer se a seguinte compra:\\n- dois guaraná 600 ml\\n- uma ruffles\\n- pringles\\n- lata de leite condensado\\né uma… no dia que eu tiver corpao vo adquirir essa veste de material de meia calça que todas as artista tao usando kali dua miley nao sei mais quem uma fodona esqueci agora @igorlgtomaz uma vez tinha uma ruffles sabor pepsi twist tô morrendo de vontade de comer ruffles e não existe em nenhum lugar aqui perto😩😩😩 sigo frustrada com a ruffles, ontem passei mais de 3h tentando comprar o ruffles chips na promoção e estava fora do ar, agora a promoção acabou @soft_ruffles então já pode adquirir! @itscopys ruffles, doritos é ruim @b4stadrama @fioreviolas ruffles rosalinda somos sua força eu amo ruffles flamin hot @thundersp, olá, cleber. gostaríamos de conversar sobre o ocorrido, você ainda possui a embalagem? ficamos no aguardo. @whysh4nge um pouco prefiro ruffles comprei a ruffles saber picante é esse troço e muito forte. tô comendo na força do ódio pra não jogar dinheiro fora @ruffles_oficial quero comprar o caminhão, onde converso 👀😂😂 pão com nutella e ruffles de presunto é a melhor combo de sempre @_akzara_ aí que fofa kkkkkk @c0henv0ir um pedaço de ruffles virou na vertical e furou meu céu da boca\\n\\neu fui fazer um tanque de papelão pro meu cachorro e furei meu antebraço com uma faca\\n\\nraspei o dedo na janela e saiu um pedaço experimente ruffles tira onda por apenas 99 centavos  rt @pageamarela: box de \"o castelo animado\", de diana wynne jones, já está em pré-venda com brindes: \\n\\nconheça o uni… enquete faço a sobrancelha ou compro óleo de ricino espero cresce com um saquinho de ruffles do lado.  eu faço uma coisa estranha e preciso contar pra vcs, eu tenho a necessidade de ir dormir toda noite com os pés e as mãos molhados. kkkkkkkkk não sei pq, paguei mania @arctpjm od melhores sap ruffles fandangos e pringles e dps doritps irritada pq não consigo jogar o jogo da promoção da ruffles @liiza_eliza hj a gnt ve ben 10 comendo ruffles @euotrouxa @fern4nda__ fandangos de presunto, mas se ficar com falta de ar ruffles de churrasco. @vulgo_ruffles que bom se não vai levar uma coça tão bem dada que não ia sobrar nada p outra 😍 @clebinhorr muito ainda tem dúvidas q ruffles dá de 10x0 em todos aí?????  @thiwitter essa ruffles sabor ansiedade eu não achei no mercadinho aí trouxe esse outro que tô acostumada tb! hahahahaahhahaahah @ofahbio @ruffles_oficial só por ter o nome ruffles já vende mais me dei conta que aquele biscoito \"de montão\" não existe mais, pelo menos aqui em tr, era bom dms ! comia doritos, baconzitos e ruffles num pacote só, sdds @danizinhawnx só a ruffles mesmo rt @pedrolucasplss: tô de boa, minha cabeça automaticamente:\\n“vem ser a minha semana, meu fim de semana, o meu feriado, meu remédio control… @soft_ruffles amiga nunca consigo abri seus link do spft😭😭😭 fiquei curiosa q musica eh vontade de comer um ruffles de cebola e salsa 🥵🥵 seria muito errado eu simplesmente me jogar na cama com um pacote de ruffles e ver uma série? @fwrdnanda linda te amo a gente ama salgadinhos e estávamos ansiosos para experimentar os lançamentos da @elmachips   :\\nruffles tira onda, doritos buffalo wings e a volta do zambinos, o salgadinho de pizza famoso nos anos 90 e voltou repaginado.\\n @keityqueti @ruffles_oficial eu não comi, só minha mãe, e ela disse que prefere pringles sempre então não sei kkkkkk pelo menos tô comendo kkk rt @clebinhorr: valendo até o fim do dia  infelizmente não consegui participar da promoção da @ruffles_oficial, mas a temática foi massa! @cianotoxica @candyferraz pippos é pra iniciante, eu levava bis e ruffles e eu namoro a menina mais linda do mundo.🤤🤤🤤🤤🤤🤤  ruffles + love alarm + chuva = tudo ruffles tem gosto de olho de fritura velho  @byunmarkz afs nao achei mais aqui por perto que odio mano só aquele ruffles velho sabor sal me poupa ne @keityqueti @ruffles_oficial amiga eu achei nas americanas @ruffles_oficial não foi o \"preço\" hauahau \\n\\nsaudade de comer ruffles e ter uma cesta assim \\n\\num dos melhores presentes que já ganhei  cupom de 15 conto no ifood pra salgadinhos. esperava desconto num combo de coxinha mas é biscoito. doritos,ruffles e fandangos 🤡🤡🤡🤡🤡🤡 eu tinha comido um pedaço de bolo, ruffles e um chocolatinho antes da pizzas...... rss eu tinha me prometido que só ia comer batatinha sexta feira mas tô sentindo a urgente necessidade de mastigar minha ruffles depois do ódio que esse macho me causou fodase autocontrole @leandrojmedeir5 e vamos de ruffles de churrasco gostinho de motel @luv_leovaldez por onde vc tá assistindo? é dublado? tomando vinho na minha caneca do hora de aventura, comendo ruffles e editando vídeo - alô é do sac da ruffles?\\n\\n- é...\\n \\n- só quero avisar que o saco de ar de vocês está vindo com umas batatinhas dentro. @luabbb @ruffles_oficial precisa aproximar o celular até entrar nesse \"portal\". depois escolhe o sabor deles movendo o celular pra esquerda a ruffles de sour cream e cebola em tubo é gostosa demais 🤤 @otroucha @martinez_zl eu ele pode se encontrar a qualquer momento scrr isso nem é indireta é uma tapa na cara kkkkkkk \\n\\ndepois da pringles e ruffles vem aí:  @marcio_spell ecaaaaaaa kkkk \\n\\ntipo, eu sei que é bom pq eu faço comidas com ruffles, é uma delícia\\n\\neu particularmente não gosto de doritos, é muito forte, então não funciona pra mim, mas sei que tua dica é de ouro nossa sim-\\nse bem que eu com meu pai meu irmão e o ruffles já é o suficiente pra mim, inclusive prefiro só a gente do que um monte de adulto que eu não converso  ruffles quando vocês vão voltar com a sabor limão????? não aguento mais ir no mercado e não achar a melhor 😭 irmão: tem q ser uma frase com batata\\n\\nmãe: coloca aí a frase trabalho no interior fabricando batata\\n\\npai: tá errado, batata não se fabrica, batata se planta\\n\\nmãe: mas e a batata ruffles?\\n\\nagora quem tá na dúvida sou eu vontade de ruffles @americanascom o cupom tireionda da ruffles não está funcionando. @giovannasfs2 ou ruffles de churrasco queria ruffles com maionese heinz e uma coquinha bem gelada, mas meu novo estilo de vida não permite @taynara67820687 ela mostrando o quão rica e privilegiada é por poder pegar ruffles e doritos quando quiser... puts tay, só podia ser do b msm, mto “desulmilde” @ahladry eu com minhas @ruffles_oficial e a @cocacola_br geladinha todo dia @gabimicheletti1 faz memo @ph_vscncls pra q vc foi colocar isso na minha tl? agora eu quero um ruffles 😭😭😭😭 é pringles com ruffles\\né bk com mc\\n\\nenfim a várzea do capitalismo  @deokmj meu pescoço em 2020 virou um saco de ruffles de tanto crek so queria um ovo de kinder ovo e uma ruffles c uma aguinha c gas.....to tao tridte @maripisadinha @kkkkkkaique vc viu da ruffles e da pringles semana passada tbm? @vicvillanova @ruffles_oficial @lojasamericanas tem que fazer o joguinho e ai entra automático ruffles com guaraná 8:45 da manhã eu amoo ser saudável já comi com batata ruffles quando era criança  ruffles costelinhaaaaaa agora senti aqui na boca o gosto daquela ruffles de mostarda com mel a maior invenção da humanidade jantando ruffles diamante negro e antartica  me lembrem do skincare antes de dormir ruffles e coca cola tbm @euotrouxa eu fico entre sensação e ruffles comendo ruffles escondido no quarto 🤫 @arteruadesu a melhor de todas, acima de todas as ruffles e pringles. @alicetiglesias tenho certeza que separaram na maternidade minha mãe comprou a ruffles copia da pingles  só para que fique registrado:\\nquero uma ruffles. de preferência, sabor churrasco. torcendo p um dia a batata ruffles vim mais batata do q ar ruffles de churrasco sem novas  @carladiaz já comprei até subway e muita ruffles pra acompanhar a festa toda adm. acho que vai dar o que falar @ruffles_oficial muito legal a experiência de realidade aumentada... só q não funcionou pra mim. só andei em círculos e nada acontece... 😭😭😭 quem quiser marketing esqueciiiiii @seilameuser amei a sugestão, karine! vou passar para o time responsável, fica de olha aqui! 😉💙 @ana_leitzke cornou a primeira dama e engravidou a rival ana paula @gustavo_wesker bate uma saudade né? vamos encaminhar sua mensagem, quem sabe ela não aparece por aí!😉✌ manda um pacote de ruffles lá pra casa e eu digo se esperava do nada me deu vontade de comer batata ruffles gengibirra, ruffles e batom. 😋 almoçaria hoje uma ruffles com uma coca gelada numa boa antes de te conhecer as borboletas eram no estômago agora são no pulso kk se tira ruffles, sensações e de montão🥴... resto tá suave  pensando no meu ruffles que eu podia estar comendo agora com suco ouvindo música enquanto eu estudo 💭 rt @sapartista: galera, me ajuda \\n\\nquem me segue aqui sabe que tô juntando dinheiro pra sair de casa...\\nentão eu tô vendendo bottons, bande… meia-noite de uma segunda e eu to com vontade de tomar uma heineken e comer ruffles. onde isso vai parar?! caralho essa ruffles sour cream and onion no formato da lays gostosa demais pqp comprei escondido e deixei escondido ali no armário to comendo tem 2 dias que luxo @ruffles_oficial @americanascom ou vocês fizeram uma promoção e não deram conta? @ibuykookie eh aqueles salgadinho de pacote  tipo ruffles, fandangos e etc eu te amo tomoe eu te amo rt @jackmachado_: @euotrouxa @mccall_sco1 jackers &gt; pringles &gt; sensações &gt; ruffles &gt; resto essa ruffles de pimenta mt boa eu me apaixonei por cada detalhe que ha em você ❤️❤️  td dia a noite me da vontade de comer besteira, hj qria ruffles de cebola e salsa old que escolho ruffles ou o cheetos de ondinhas  @pedrohen @ruffles_oficial aaaaaaaa comprou onde? são boas? ruffles mandou bem em copiar a lata de pringles @tatyellowfds a ruffles tá mordendo a nesfit!!! kskskskss @luisalevy @ruffles_oficial pra min também não eu tô louca por ruffles e coca alguém pode me dizer se a seguinte compra:\\n- dois guaraná 600 ml\\n- uma ruffles\\n- pringles\\n- lata de leite condensado\\né uma compra de uma pessoa a beira de um colapso? rt @sapartista: bom dia ✨🌈\\n\\nviram que eu tô publicando novos produtinhos na loja? aceito sugestões \\n  @kyoronoa obg 🙏 vc é um anjo rt @julhaprux: ola site ó meus novos prints disponíveis pra comprar em a3 e a4 🤧✨  comendo aquele ruffles maroto  doritos/ sensação/ ruffles de churrasco, esquece a maior dúvida da história  minha gata veio comer minha ruffles ?????? safads só tô dando pra ela pq ela tá grávida @wilhelmbecker_ vontade de comer ruffles @ana_leitzke se n me engano é uma vereadora q ambos ficaram se espinhando e alfinetando as eleições toda um pacote da ruffles ta quase custando um rim fandangos\\ncebolitos\\nsensação \\ncheetos azul\\ndoritos \\nruffles cebola e salsa  @gabypereiran aiiiiiii eu sou o lider do que ? quem é o mlk, me atualizem pfvr @pro7eino qualquer ida no mercado para comprar doritos, ruffles, sensações e cheetos para assistir séries na folga de final de semana 1579 reais e 89 centavos.😭 que ódio da @ruffles_oficial que me fez me empolgar com a promoção de 0,99 fui comprar e perdi dinheiro para @americanascom que cobrou o pix mas não gerou pedido. @flaviakujo saquinho de ruffles? @loianydacabeca @martinez_zl desculpa errar o nome @duckpalestra é o meu jeitinho de tirar uma onda!!🤭🤗💙 @luvemortencias kkkkkkko eu vc tem cara de moda! cheetos de requeijão \\nfangangos \\ne ruffles \\n\\ndoritos só pra larica pois combina  @emyypo vc vai ser a melhor mãe ❤️ comi 5 batatinha ruffles e acho q vo morre ruffles é bom, mas sensação é melhor  @eloirxx cara é mt bomm\\nde todas as empresas na real \\nesses dias vi o pringles mandando indireta pra ruffles por conta q eles copiaram a embalagem tv 4k smart - confere \\nsom de cinema - confere\\nbis branco - confere\\nm&amp;m’s - confere\\nruffles - confere\\ndoritos - confere\\npepsi - confere\\nsaquinho de milho pra pipoca - confere\\nlook pra ver o filme - confere\\n\\nsó vem meu lindo #snydercut eu tô me preparando pra esse dia, a 4 anos to com uma vontade de comer ruffles churrasco, to ate salivando familia slc @brunocu55243917 como se doritos e ruffles não fizessem parte da mesma corporação o poder de faze a sobrancelha nunca fui triste salgadinho ruffles melhor de todos  quero come aquele ruffles de ketchup onde acha caralho doritos é muito ruim não faz sentindo nenhum comprar isso ao invés de um ruffles assistindo pesadelo na cozinha no youtube e comendo a ruffles que eu gosto pra poder me animar um pouquinho @d_miosimply deve ser,mas eu nao gosto de ruffles mauro cezar é o reflexo de 90% da torcida do flamengo. \\n\\ndiz que torce pro fra só quando o time ganha algo. \\n\\n🚨 flamenguista é igual ruffles “a torcida da onda”  eu vou comer ruffles sim foda sw @marina_bucair kkkkkk ruffles além de te tirar uns 10 anos de vida é ruim 🤧 acabei de lembrar que quando eu era criança e tipo falavam aquele bagui de \"vc é homem ou saco de batata?\" eu perguntava se eu podia ser fandangos pq nao gostava de ruffles na época kkkkkkkkkkkkkkkkkk ai carai eu quero muito um ruffles de churrasco @kuvasney @americanascom olá! o estoque do produto é conforme a disponibilidade da loja mais próxima. o cupom de desconto acabou, mas você pode comprar sua ruffles® tira onda na  e através da nossa experiência virtual!😉 agora fizeram um ruffles sabor pringles cheetos e ruffles &gt;&gt;&gt; qualquer outro salgadinho ruffles churrasco ta 10 conto @xandellos planta batata batate e se produz batata ruffles ruffles® tira onda te espera em um universo paralelo nessa experiência de realidade aumentada. é só acessar pelo seu celular:  #rufflestiraonda #outromundoruffles  tô comendo ruffles 😋 nossa sério a minha maior tristeza era quando nas raras vezes que minha mãe comprava salgadinho ela pegava fandangos que é o preferido da minha irmã e eu odeio, tudo que eu queria era um ruffles 😔  aela esentada no colo\\ndele em baixissima qualidade  @ruffles_oficial péssima escolha a parceria com a @americanascom. comprei e não recebi! tão é tirando onda com a minha cara. @duckpalestra aproveitou super bem essa oportunidade de outro mundo, hein? parabéns! 💙😉🌀 @ruffles_oficial é a sua chance de se promover. sem molho.  @dudusaito_ tô com o ruffles, tá um pouco mais suportável, mas ainda assim tá foda @neaxhbr1708 você pode garantir sua ruffles® tira onda no site ou no app das lojas americanas e também através do nosso portal de realidade aumentada! não fique de fora dessa!😍💙 um ruffles, um enrolado e uma coca de café da manhã, será q eu vou morrer sim ou obv @taehglxy não gosto de ruffles @vulgo_ruffles então me dá um filho 🙂 @b_ruffles me esforço apenas ! @babilonistica @ruffles_oficial essa foi a minha reação to comendo ruffles com ketchup e queijo ralado  @b_ruffles tem outros personagens, so jogar one piece no search \\n(atençao que tem mil e uma lojas ok)\\n ninguém bota fé no que vc fala pq vc já defendeu uns assim ok que vontade de comer passa tempo com ruffles @igoritonobrasil meu deus onde vc comprou esse uniforme 😭🥺 @gibbepls aí sim! não existe trio mais perfeito que esse 😍🧡💚💙 o pessoal gosta de guerra né \\né pringles e ruffles, e burger king e mc  @ruffles_oficial abaixa o por favor que to afim de comer ruffles 😢 @vulgo_ruffles mo nós vai jantar aonde de look donw será que eu vou ser aqueles vei chato 🤔 por favor volte nescau ball/lacta delice/ruffles onda costelinha @leeoutlaws ela prefere nescau e ruffles doq toddy e doritos rt @ruffles_oficial: ruffles® tira onda é tão diferente da ruffles® que nós conhecemos, que só poderia ser de outro mundo mesmo. conheça o… sedenta por um ruffles ai que vontade de comer uma ruffles rt @binreaaal: deus é testemunha que eu tô tentando igual um filha da puta @isa_bela2412 tipo a pringles puta com a ruffles pq a ruffles usou o msm tipo de embalagem  @dxpksouza_ disse tudo, iago! 😉💙 @xacotaxaiene vai chegar ai, quando vc menos esperar meu cafe da manha pelo terceiro dia seguido: ruffles e coca 300 @avadinhaa ai q delícia o cheiro de ruffles lívia foi no mercado e comprou o doce de leite que eu gosto, ruffles e fez batata com bacon, calabresa e cheddar p mim ontem 🤤🤤 pedi minha mãe p trazer ruffles do mercado e ela trouxe um pacote maior q a minha cabeça @vicvillanova @ruffles_oficial @lojasamericanas o que houve? nos últimos dias pesei 41 kg na balança. estou resolvendo esse problema comendo bolo no pote, ruffles e biscoito recheado 🤪😅 me sentindo tao patetica so os 30 mil reais da ruffles me fariam feliz agora @ruffles_oficial a repórter foi minha professora de teatro ♥️♥️♥️♥️ @maluucadacabeca ainnn to indo ai na roça buscar acompanhe as campanhas publicitárias lançadas nos últimos dias por marcas como @riachuelo, @nissanbrasil , andorinha e @ruffles_oficial. #campanhas #publicidade \\n fiquei puta pq estava sem janta... achei um ruffles que comprei domingo e não comi 🤩 @dearmydani eu comia batata ruffles escondida na aula de história, sentava na última cadeira da sala e me enchia de batatinha, depois ia anotar a matéria toda correndo snjnsnjs @emyypo vou levar uns bom os que tá ai é muito bodi vou fazer o tiktok do porra loca mesmo a emi, vcs vão ver os melhores dançarinos será que minha vida diminui em quantos anos se eu comer ruffles de café da manhã? comprei 2 lays de cheeses, 2 ruffles de queijo, 2 ana maria de napolitano, 1 bis branco, 4 snickers e 2 bis xtra rt @_larissafalcao_: que vontade besta de comer um salgadin com gostinho de hipertensão \\n\\ndoritos, fandangos, cheetos, ruffles tanto faz @mugiwaradsabo @snatcher01 @melluislo @m_passart caraio ruffles ta puto pq? kkkkkkkkkkkkk rt @sepalmeirasbr: mauro cezar é o reflexo de 90% da torcida do flamengo. \\n\\ndiz que torce pro fra só quando o time ganha algo. \\n\\n🚨 flamengu… @shesldv e comer falso brigadeiro com ruffles 😎 @emyypo gatona demais @vulgo_ruffles chuteira kkkkkkkkk @tuahp_ ??????????pq tlgkkkkmkkkkkkkkkkkk  e tipo chamar ruffles e fandangos d doritos @emyypo vai dormir hahahahahahahhahahahahahajajaja vc trabalha amanhã morrendo de cólica mas continuando o dia pq é assim q as coisas funcionam\\n\\n#toparecendozumbi @marcoaurelio969 @dreapta1 fato que ela ama a mulher que estoca ar nas batatinhas ruffles! @thalessb5 ela gosta né bro, se fosse por mim eu metia logo num ruffles de churrasco slc rt @booksofertas: sorteio valendo um box de até r$ 300,00!!\\n\\nregras:\\n\\n- seguir @booksofertas / @aeiinglthyns / @favskyliex \\n- dar rt nesse… @renaally o que aconteceu, yeniki? conta pra gente! 💙🌀 @cristianviana_ depois passa aqui e me conta o que achou dessa experiência em outro mundo, cris!!😉🤗🌀 @vulgo_ruffles as vezes uma empresa q oferece um produto que complementa o produto de uma outra empresa consegue facilmente fazer uma campanha em parceria e ahazar, mas o mc e o bk, a ruffles e a pringles precisam “brigar” pq isso gera muitooo mais engajamento e nao confunde a decisão das pessoas rt @cavalcanticl4ra: ajudem uma pobre universitária!! eu tô presa aqui em slz  sem nem 1 real no bolso então decidi colocar uns livros que… @ahaskenna bom dia aruuuu!!!!!! te amo q fome e minha mae nao vem logo com a minha ruffles @itscopys ruffles &gt;&gt;&gt;&gt; doritos de queijo \\n\\nagr o azul e o amarelo são bons @euotrouxa claro que nao kkkk se n tiver ruffles eu amasso o baconzitos @rafamilitelli @maiorini73 @alexandregarcia @anacris53727087 meu vizinho pegou covid e foi curado com ruffles, foi mágico!\\n#forabolsonaro @claudeooh meudeus que loucura. e você come snacks, tipo uma ruffles ou pipoca ou qualquer coisa que as pessoas comem meio que pra matar ansiedade? ou não curte também? @beamancuso fala aí, bea! o cupom de desconto do outro mundo acabou, mas não deixe de acessar o site para garantir a sua ruffles® tira onda e receber na sua casa.💙🌀 @juleka__ acabei de jantar ruffles eu espero que ajude @b_ruffles  nessa loja aqui 😊 ruffles é o melhor salgadinho junto com o cheetos azul @cesarmarcosa @ruffles_oficial nas americanas! mais ou menos @ruffles_oficial me patrocina eu posto todo dia @vulgo_ruffles trás três carvão @karimaru17 @pedrolilgamba @dafzz_ pq vcs tão falando tanto... eu so queria mostrar o quanto eu tava triste de ter comido o coração de ruffles )): até a ruffles queijo e churrasco aumento 😕 , tô chateado pra caralh# @soft_ruffles como tu és baixa! ruffles por 80 centavos? pois temos\\n\\ncupom tireionda no site da americanas (frete grátis, claro)  @netimprado oi, netim! o cupom de desconto do outro mundo acabou, mas não deixe de acessar o site para garantir a sua ruffles® tira onda e receber na sua casa. 😉🌀 @pkjmnoirs salgadinho ruffles churrasco @eu_sou_gostoso cheio de pobre a mãe me pedindo tele: \\n-trás um doritos e um ruffles\\n-não tem doritos mãe\\n-tras cheetos e doritos então \\n\\na não gente kkkkkk o ruffles milho de praia era holograma @ruffles_clara12 hipercalórico? não compra de morango, é simplesmente horrível depois do 2° gole twitch enfia essa propaganda da ruffles no cuuuuuuu @ruffles_oficial mds é a alícia @vulgo_ruffles vc lembra😍😍😍😍 capengando de sono mas vou ter que ir pra academia gabriel disse que vai baixar umas músicas pra gente tomar umas junto, tô até vendo as desgraceira de música que ele vai arrumar paguei 90 centavos na nova ruffles e tá boa pra caramba rt @promodelivro: ✨ sorteio relâmpago ✨\\n\\n📚prêmio: um dos livros da imagem \\n\\n➡️ regras:\\n- seguir @promodelivro\\n- dar rt nesse tweet \\n\\n➡️ res… eu nao aquento mais chega  😋 @ruffles_oficial \\naprovada!  @vulgo_ruffles ta explicado o espirito de virgens fimosentos eu fazendo asmr na aula comendo ruffles com o audio ligado kkkkkkkkk rt @enbybigshoe: refazendo  porque  fiz  merda,  se  você  gosta  de/é:\\n\\n• mxmtoon\\n• cavetown\\n• girl  in  red\\n• shera\\n• toh\\n• saiki\\n• tpn\\n•… @gustavo_wesker vamos ficar de olho nas novidades, hein gu? 😉💙 toda vez que faço o olho de xergao lembro do quao pistola ficava com a debora de mete os dedo sujo no olho mas é tão bom o gostinho da hipocrisia @hercflecha é igual quem come ruffles no enem, estratégia pra desconcentrar os adversários @gabypereiran caralho essa até eu que sou lerdo entendi rápido quem é a pessoa ruffles é a prova que nem ar é de graça... @gn_nadia a gente indo na piscina da sua vó dps comendo pizza na sua casa e fazendo festinha do pijama, a gente na praça comprando ice e jogando no bueiro, comendo batatinha no tio, ruffles com nutella, bexiga d’água, meu aniversário em casa com uma grade de tubaína rt @n_carvalheira: - alô é do sac da ruffles?\\n\\n- é...\\n \\n- só quero avisar que o saco de ar de vocês está vindo com umas batatinhas dentro. @emyypo eu levo o jantar até vc, isso não é problema vou no mercado comprar uma ruffles fds @igoritonobrasil obrigadaaa 💖💖 @ana_leitzke no final deu tudo certo, obrigada 💛 @ruffles_oficial @pedrohen ainda está rolando promoção.  eu estou tentando e a tela fica congelada. estou fazendo algo errado? não consigo sair dessa etapa.  @glossdacancer é alabama shakes nao sei qual pera foi legal entrar em outra dimensão nesse site da ruffles..mas não consegui a minha por 0,99 nas americanas. queria. depois tento de novo\\n jantando ruffles com 2l de coca pq choras nutrição @affectgillespie eu amo combinações estranhas kkkkkkk qq dia tenta tapioca com recheio de: ruffles, quejo e ketchup kkkkk juro, incrível @sugarvenus3 kkkkkkk ai saudade do povo falando \"hmm que cheiro de miojo\" e eu comendo ruffles @ruffles_oficial comprei pelas @americanascom e eles cancelaram meu pedido sem que eu tivesse solicitado esse cancelamento. tentei mandar mensagem pra eles, mas o site não funciona. me ajuda? rt @n_carvalheira: - alô é do sac da ruffles?\\n\\n- é...\\n \\n- só queria avisar que o saco de ar de vocês está vindo com umas batatinhas dentro. @en4luvb0t ruffles e pringles sao bons e o resto é ruim chegou minha batata lançamento da ruffles (imitação da pringles) que comprei por ✨r$0,99✨ nas americanas e com frete grátis.\\ngratidão aos envolvidos (@guiga_quirino) 💖 plantando calma pra viver uma vida mansa eu amo ruffles @vulgo_ruffles tamo aqui pra oque precisar ❤️ ruffles de cebola e salsinha é o melhor q tem @xcactox @ruffles_oficial @lojasamericanas nem isso consegui já imaginou experimentar as batatas ruffles tira onda por apenas r$0,99? aqui você pode! a ruffles e a americanas fecharam uma parceria e estão distribuindo cupons com esse desconto incrível. \\n\\n📌 acesse: amostras grátis shop\\n\\n#amostrasgratis #amostragratis #cupom #desconto  bela promoção que cancelam o pedido sem motivo (meu e da minha esposa) @ruffles_oficial @americanascom  recebi meu ruffles de 99 centavos k queria tirar nudes legais e conceituais porém tô extremamente insatisfeito com meu corpo agora e continuarei por um tempo vide que acabei de comer um pacote enorme de ruffles rt @miyatsumubf: tsukishima salvando a bola de vôlei em lugares inesperados - uma thread extremamente necessária !  @euotrouxa ruffles sem dúvida @glaucia_ isso que eu chamo de receita que tira onda!!🤭😋😍 @thundersp, possui o lote e a validade do produto? flaming hot ruffles intragável não comprem @dudalienn nao era ruffles com nutella? não achei ainda aquela ruffles de cheddar e bacon. tô brabo não tem nada a ver, mas isso aqui me fez lembrar que até pouco tempo atrás eu odiava ir no mercado, mas agora que eu vou com meu irmão pra comprar só coca e ruffles, eu simplesmente adoro  @b_ruffles achei ele dublado no drive, vou mandar link e o jantar foi ruffles com toddynho obg fabíola @b_ruffles bom dia rafa 🥺🥺🥺 eu q te amo copão de coca gelada e um pacotão de ruffles, tenho que parar com essas coisas 🤦🏻\\u200d♂️ tô de tpm e meu pai me trouxe ruffles e chocolate 🥰 experimente ruffles tira onda por apenas 99\\xa0centavos  @itscopys a ruffles mas tem q ser aquela verde a original n tem gosto de nada a pessoa chamando a ruffles de pote lá de \"ruffles de pringles\" kkkkkkkk @affectgillespie não vou julgar não pq coloco ketchup na ruffles @ruffles_oficial se tudo é ao contrário então nesse mundo ruffles é bom? @ruffles_oficial tá tirando onda com a nossa cara neh. entrei no portal peguei o cupom e não funciona 😒 com as costas sofrenu pós produção de mkt da rep ruffles @frendgi é indiferente, mas a nível de onduladas, gosto das ruffles de ketchup e abomino as de presunto. @barbaara__ @ruffles_oficial se a rufus não fizer todo mundo vai saber que só tem ar dentro do pacote. 👀  @froggypeebs fica bem, se quiser conversar depois, só me chamar, a gente até pode ver hora de aventura junto  gratidão @americanascom @ruffles_oficial pela batata por 0.99 centavos 🙏🙏🙏  na loja todos dia é besteira, já amassei 3 litro de coca, bis e 2 ruffles 🤤 ruffles churrasco ou cheetos azul ou sensações de frango grelhado  pqp não sei pq eu invento de comer batata palha da um enjoo parece ruffles @luxnrfm desulmilde? jamais kkkkkk 🤪!!\\nontem comi ruffles,hj foi fandangos e amanhã vai ser doritos em sua homenagem 🥰🥰🤪 @emyypo vou manda uma roupa pra vc pra gente ter um encontro @ruffles_oficial mano namoral, peguei uma ruffles aqui so tinha ar vssssf que roubo @netimprado @ruffles_oficial tô na mesma :/ vou comer a ruffles e o skitles que eu comprei e a partir de amanha eu não como mais @pedrohen @ruffles_oficial vi no instagram que a americanas estava cancelando vários pedidos inclusive de quem já tinha até pago. deu ruim! @gabypereiran vc ta junto cmg então 🥰 promoção experimente ruffles tira onda.\\n\\npara participar →\\n\\n#prêmios #participar #concorrer #promoção #cadastrarnapromocao #sorteio #ruffles #tiraonda #cadastrarpromo @vulgo_ruffles kkkkkkkkkkkkkkkkkkkkkkkkkkkkkkkkkkkkkkkkkkkkkkkk te amo que saco @gustavo_wesker vou avisar o time responsável sobre esse pedido de outro mundo!!😉🤗💙 @euotrouxa meus favs \\nruffles salsa e cebola\\ndoritos \\ncebolitos ja me deu vontade de comer: miojo, mcdonalds, sushi, salgadinho de festa, batata ruffles com ketchup (o ketchup eu adicionei por mim mesma), macarrão, cachorro-quente eu tô sentindo um cheiro absurdo de ruffles de churrasco e agora tô morrendo de vontade de comer eu amo batata ruffles de churrasco, por isso gostaria que viesse mais batata do que ar.\\nsou uma piada pra você @elmachips ? 🤡🤡🤡🤡 desejando uma ruffles papo reto @emyypo ok vai chegar um ai na sua casa @guiathaide eu janto ruffles cebola e salsa 2x por semana. é pandemia que chama. rt @agorajafalei: projota é a criança que se joga no chão do mercado pão de açúcar pq a mãe não quer comprar 3 pacote de ruffles\\n\\n#bbb21 comer na janta em um horário normal e comida que realmente sustenta? nah \\ncomer ruffles a 00h40? siiim 💞💞💞💞 @emyypo tbm te amo bb carai @pedrohen @ruffles_oficial poxa, parece que não tem mais 😭 @laisstefani__ eu cortei no mandolim! tem essa lâmina ondulada, que tá do lado dele na imagem. uso ela pra fazer as fatias onduladas tipo ruffles e depois eu corto os palitos na faca :))  rt @aricyaoliveira: nunca me senti tão idiota quanto agora tentando atravessar um portal imaginário no site da ruffles alô @ruffles_oficial\\n comprei pelas \\n@americanascom\\n e eles cancelaram meu pedido sem que eu houvesse solicitado esse cancelamento. tentei mandar mensagem pra eles, mas o site não funciona. me ajuda? @ruffles_oficial aprovadissimo, extrema qualidade. @azrelgirl @battlnsun nany ele q sempre começa eh culpa do ruffles @ruffles_oficial possuo sim, enviei tudo por dm rt @eletricghost: teste de mecha?  nunca fiz se cair o cabelo caiu ne @wayczen como assim tem q fritar eu achei que era salgadinho tipo doritos, cheetos, ruffles @minichip16222 aninha confia ele ronca bem baixinho @maria_gab_dom engravidou a ana paula, rival dele as eleições todas, e cornou a esposa, agr eles tão vivendo separados saudades ruffles de catchup mais conhecida como a melhor batata que já existiu @_adryelleac @americanascom @ruffles_oficial cruzes @emyypo ronca sim bem baixinho assim ronnn chiii @ruffles_oficial eu já quero❤❤❤❤ bom dia nação cringe \\ncomo é bom ser cringe ! @vulgo_ruffles @martinez_zl queria encontrar vcs pessoalmente... luiza tava doida querendo aquela batata apimentada da ruffles eu ia tentar fazer supresa de so aparecer na porta dela com uma mas não aguentei e falei que tava indo \\n\\npelo menos levei um magnum de surpresa que é outra coisa que ela sempre ta querendo tem unicórnios dançando samba no meu útero, não é possível @vickaopressora ruffles é horrível se fosse ruffles de queijo seria melhor ainda 🤤 sou apaixonada ❤  @brmorschel ã ?nao entendo latidos, tenta articular... ai gente eu sou apaixonadinha neleeeee @mv_gomes_ cheetos de requeijão e ruffles &gt;&gt;&gt;&gt;&gt;&gt;&gt;&gt;&gt;&gt; que vontade de comer um ruffles de churrasco😩, é o melhor @thundersp, \\npor favor, nos envie os seguintes dados para darmos continuidade ao atendimento:\\n\\nnome completo :\\n\\ne-mail :\\n\\ntelefone :\\n\\nendereço completo com o cep :\\n\\ndados do produto (lote, validade, sabor e gramagem): não é justo não é justo não é justo não é justo nao é justo não é justo eu tava curada eu estava bem pq ta tudo voltando pq eu to tendp crises pq pq pq pq pq pq pq eu tava bem eu tava curada pq isso ta voltando isso não é justo nao é justo nao é justo @hyuitboy horrivel amiga ce passava a mao e faltava quebrar igual batata ruffles quando saiu aquele teaser do kingdom quase tive um colapso @bwterw ruffles e cebolitos &gt;&gt;&gt;&gt;&gt;&gt;&gt;&gt;&gt;&gt;&gt; @loianydacabeca @martinez_zl tem tantos malu que quer vater no martin que ta foda com esse mlk'"
      ]
     },
     "execution_count": 6,
     "metadata": {},
     "output_type": "execute_result"
    }
   ],
   "source": [
    "#Criando classes \"cleanup\", usadas para deixar as strings mais padronizadas.\n",
    "\n",
    "def cleanup_pontuacao(tweets):\n",
    "    p = '[!-.:?;\"\\n\"()''\"\",_%$®|=“”—/]'\n",
    "    padrao = re.compile(p)\n",
    "    remove_ponto = re.sub(padrao,' ',tweets)\n",
    "    espaco = ' '\n",
    "    padrao = re.compile(espaco)\n",
    "    tweets_espaco = re.sub(padrao, ' ', remove_ponto)\n",
    "    return tweets_espaco\n",
    "    \n",
    "def cleanup_espacos(tweets):    \n",
    "    espacos = ' '\n",
    "    padrao = re.compile(espacos)\n",
    "    remove_espaco = re.sub(padrao,' ', tweets)\n",
    "    return remove_espaco\n",
    "\n",
    "def cleanup_link(tweets):\n",
    "    link = r'http[^\\s]*'\n",
    "    padrao = re.compile(link)\n",
    "    remove_link = re.sub(padrao,'',tweets)\n",
    "    return remove_link\n",
    "\n",
    "trein_str=str()\n",
    "for n in train['Treinamento']:\n",
    "    trein_str+=' '+n\n",
    "\n",
    "\n",
    "\n",
    "trein = trein_str.lower()\n",
    "trein_limpo = cleanup_pontuacao(trein)\n",
    "trein_limpo2 = cleanup_espacos(trein)\n",
    "trein_limpo3 = cleanup_link(trein)\n",
    "trein_limpo3"
   ]
  },
  {
   "cell_type": "code",
   "execution_count": 7,
   "metadata": {},
   "outputs": [],
   "source": [
    "#Usando UNICODE emoji para separar os emojis\n",
    "\n",
    "def seleciona_emoji(character):\n",
    "        return character in emoji.UNICODE_EMOJI \n",
    "    \n",
    "def character_tem_emoji(texto):\n",
    "    return ''.join(' ' + char + ' ' if seleciona_emoji(char) else char for char in texto).strip()    \n",
    "\n",
    "trein_f = character_tem_emoji(trein_limpo3)"
   ]
  },
  {
   "cell_type": "code",
   "execution_count": 8,
   "metadata": {},
   "outputs": [
    {
     "data": {
      "text/plain": [
       "ruffles           0.040326\n",
       "de                0.038038\n",
       "e                 0.027027\n",
       "que               0.019305\n",
       "a                 0.018304\n",
       "                    ...   \n",
       "validade,         0.000143\n",
       "snickers          0.000143\n",
       "@minichip16222    0.000143\n",
       "antartica         0.000143\n",
       "@leeoutlaws       0.000143\n",
       "Length: 2359, dtype: float64"
      ]
     },
     "execution_count": 8,
     "metadata": {},
     "output_type": "execute_result"
    }
   ],
   "source": [
    "#Criando um pd.Series com todas as palavras e suas frequencias relativas\n",
    "\n",
    "palavras = trein_f.split()\n",
    "\n",
    "total = pd.Series(palavras)\n",
    "total.value_counts(True)"
   ]
  },
  {
   "cell_type": "code",
   "execution_count": 10,
   "metadata": {},
   "outputs": [
    {
     "data": {
      "text/plain": [
       "Muito Irrelevante    0.396\n",
       "Irrelevante          0.330\n",
       "Relevante            0.274\n",
       "Name: Valor, dtype: float64"
      ]
     },
     "execution_count": 10,
     "metadata": {},
     "output_type": "execute_result"
    }
   ],
   "source": [
    "train['Valor']=train['Valor'].astype('category')\n",
    "train['Valor'].cat.categories = [\"Muito Irrelevante\",\"Irrelevante\",\"Relevante\"]\n",
    "\n",
    "train['Valor'].value_counts(True)"
   ]
  },
  {
   "cell_type": "code",
   "execution_count": null,
   "metadata": {},
   "outputs": [],
   "source": []
  },
  {
   "cell_type": "markdown",
   "metadata": {},
   "source": [
    "___\n",
    "### Verificando a performance do Classificador\n",
    "\n",
    "Agora você deve testar o seu classificador com a base de Testes."
   ]
  },
  {
   "cell_type": "code",
   "execution_count": null,
   "metadata": {},
   "outputs": [],
   "source": []
  },
  {
   "cell_type": "code",
   "execution_count": null,
   "metadata": {},
   "outputs": [],
   "source": []
  },
  {
   "cell_type": "code",
   "execution_count": null,
   "metadata": {},
   "outputs": [],
   "source": []
  },
  {
   "cell_type": "markdown",
   "metadata": {},
   "source": [
    "___\n",
    "### Concluindo"
   ]
  },
  {
   "cell_type": "code",
   "execution_count": null,
   "metadata": {},
   "outputs": [],
   "source": []
  },
  {
   "cell_type": "code",
   "execution_count": null,
   "metadata": {},
   "outputs": [],
   "source": []
  },
  {
   "cell_type": "code",
   "execution_count": null,
   "metadata": {},
   "outputs": [],
   "source": []
  },
  {
   "cell_type": "markdown",
   "metadata": {},
   "source": [
    "___\n",
    "### Qualidade do Classificador a partir de novas separações dos tweets entre Treinamento e Teste\n",
    "\n",
    "Caso for fazer esse item do Projeto"
   ]
  },
  {
   "cell_type": "code",
   "execution_count": null,
   "metadata": {},
   "outputs": [],
   "source": []
  },
  {
   "cell_type": "code",
   "execution_count": null,
   "metadata": {},
   "outputs": [],
   "source": []
  },
  {
   "cell_type": "code",
   "execution_count": null,
   "metadata": {},
   "outputs": [],
   "source": []
  },
  {
   "cell_type": "markdown",
   "metadata": {},
   "source": [
    "___\n",
    "## Aperfeiçoamento:\n",
    "\n",
    "Os trabalhos vão evoluir em conceito dependendo da quantidade de itens avançados:\n",
    "\n",
    "* Limpar: \\n, :, \", ', (, ), etc SEM remover emojis\n",
    "* Corrigir separação de espaços entre palavras e emojis ou entre emojis e emojis\n",
    "* Propor outras limpezas e transformações que não afetem a qualidade da informação ou classificação\n",
    "* Criar categorias intermediárias de relevância baseadas na probabilidade: ex.: muito relevante, relevante, neutro, irrelevante, muito irrelevante (3 categorias: C, mais categorias conta para B)\n",
    "* Explicar por que não posso usar o próprio classificador para gerar mais amostras de treinamento\n",
    "* Propor diferentes cenários para Naïve Bayes fora do contexto do projeto\n",
    "* Sugerir e explicar melhorias reais com indicações concretas de como implementar (indicar como fazer e indicar material de pesquisa)\n"
   ]
  },
  {
   "cell_type": "markdown",
   "metadata": {},
   "source": [
    "___\n",
    "## Referências"
   ]
  },
  {
   "cell_type": "markdown",
   "metadata": {},
   "source": [
    "[Naive Bayes and Text Classification](https://arxiv.org/pdf/1410.5329.pdf)  **Mais completo**\n",
    "\n",
    "[A practical explanation of a Naive Bayes Classifier](https://monkeylearn.com/blog/practical-explanation-naive-bayes-classifier/) **Mais simples**"
   ]
  },
  {
   "cell_type": "code",
   "execution_count": null,
   "metadata": {},
   "outputs": [],
   "source": []
  }
 ],
 "metadata": {
  "kernelspec": {
   "display_name": "Python 3",
   "language": "python",
   "name": "python3"
  },
  "language_info": {
   "codemirror_mode": {
    "name": "ipython",
    "version": 3
   },
   "file_extension": ".py",
   "mimetype": "text/x-python",
   "name": "python",
   "nbconvert_exporter": "python",
   "pygments_lexer": "ipython3",
   "version": "3.8.3"
  }
 },
 "nbformat": 4,
 "nbformat_minor": 4
}
